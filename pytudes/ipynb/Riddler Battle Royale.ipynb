{
 "cells": [
  {
   "cell_type": "markdown",
   "metadata": {},
   "source": [
    "# Riddler Battle Royale\n",
    "\n",
    "\n",
    "\n",
    "> [538's *The Riddler* Asks](http://fivethirtyeight.com/features/the-battle-for-riddler-nation-round-2/): *In a distant, war-torn land, there are 10 castles. There are two warlords: you and your archenemy, with whom you’re competing to collect the most victory points. Each castle has its own strategic value for a would-be conqueror. Specifically, the castles are worth 1, 2, 3, …, 9, and 10 victory points. You and your enemy each have 100 soldiers to distribute, any way you like, to fight at any of the 10 castles. Whoever sends more soldiers to a given castle conquers that castle and wins its victory points. If you each send the same number of troops, you split the points. You don’t know what distribution of forces your enemy has chosen until the battles begin. Whoever wins the most points wins the war. Submit a plan distributing your 100 soldiers among the 10 castles.*\n",
    "\n"
   ]
  },
  {
   "cell_type": "code",
   "execution_count": 1,
   "metadata": {},
   "outputs": [],
   "source": [
    "# Load some useful modules\n",
    "%matplotlib inline\n",
    "import matplotlib.pyplot as plt\n",
    "import csv\n",
    "import random\n",
    "from collections import Counter\n",
    "from statistics import mean"
   ]
  },
  {
   "cell_type": "markdown",
   "metadata": {},
   "source": [
    "Let's play with this and see if we can find a good solution. Some implementation choices:\n",
    "* A `Plan` will be a tuple of 10 soldier counts (one for each castle).\n",
    "* `castles` will hold the indexes of the castles. Note that index 0 is castle 1 (worth 1 point) and index 9 is castle 10 (worth 10 points).\n",
    "* `half` is half the total number of points; if you get more than this you win.\n",
    "* `plans` will hold a set of plans that were submitted in the previous contest.\n",
    "* `play(A, B)` gives the single game reward for Plan A against Plan B: 1 if A wins, 0 if A loses, and 1/2 for a tie.\n",
    "* `reward(a, b, payoff)` returns payoff, payoff/2, or 0, depending on whether `a` is bigger than `b`."
   ]
  },
  {
   "cell_type": "code",
   "execution_count": 2,
   "metadata": {},
   "outputs": [],
   "source": [
    "Plan    = tuple      \n",
    "castles = range(10)\n",
    "half    = 55/2     \n",
    "plans   = {Plan(map(int, row[:10])) \n",
    "           for row in csv.reader(open('battle_royale.csv'))}\n",
    "\n",
    "def play(A, B): \n",
    "    \"Play Plan A against Plan B and return a reward (0, 1/2, or 1).\"\n",
    "    A_points = sum(reward(A[c], B[c], c + 1) for c in castles)\n",
    "    return reward(A_points, half) \n",
    "\n",
    "def reward(a, b, payoff=1): return (payoff if a > b else payoff / 2 if a == b else 0) "
   ]
  },
  {
   "cell_type": "markdown",
   "metadata": {},
   "source": [
    "Some tests:"
   ]
  },
  {
   "cell_type": "code",
   "execution_count": 3,
   "metadata": {},
   "outputs": [],
   "source": [
    "assert reward(6, 5, 9) == 9  # 6 soldiers defeat 5, winning all 9 of the castle's points\n",
    "assert reward(6, 6, 8) == 4  # A tie on an 8-point castle is worth 4 points\n",
    "assert reward(6, 7, 7) == 0  # No points for a loss\n",
    "assert reward(30, 25)  == 1  # 30 victory points beats 25\n",
    "\n",
    "assert len(plans) == 1202\n",
    "\n",
    "assert play((26, 5, 5, 5, 6, 7, 26, 0,  0, 0),\n",
    "            (25, 0, 0, 0, 0, 0, 0, 25, 25, 25)) == 1 # A wins game\n",
    "\n",
    "assert play((26, 5, 5, 5, 6, 7, 26, 0,  0, 0),\n",
    "            (0, 25, 0, 0, 0, 0, 0, 25, 25, 25)) == 0 # B wins game\n",
    "\n",
    "assert play((25, 5, 5, 5, 6, 7, 26, 0,  0, 0),\n",
    "            (25, 0, 0, 0, 0, 0, 0, 25, 25, 25)) == 1/2 # Tie game"
   ]
  },
  {
   "cell_type": "markdown",
   "metadata": {},
   "source": [
    "Let's run a tournament, playing each plan against every other, and returning a list of `[(plan, mean_game_points),...]`.  I will also define `show` to pretty-print these results and display a histogram:"
   ]
  },
  {
   "cell_type": "code",
   "execution_count": 4,
   "metadata": {},
   "outputs": [],
   "source": [
    "def tournament(plans):\n",
    "    \"Play each plan against each other; return a sorted list of [(plan: mean_points)]\"\n",
    "    rankdict = {A: mean_points(A, plans) for A in plans}\n",
    "    return Counter(rankdict).most_common()\n",
    "\n",
    "def mean_points(A, opponents): \n",
    "    \"Mean points for A playing against all opponents (but not against itself).\"\n",
    "    return mean(play(A, B) for B in opponents if B is not A)\n",
    "\n",
    "def show(rankings, n=10): \n",
    "    \"Pretty-print the n best plans, and display a histogram of all plans.\"\n",
    "    print('Top', n, 'of', len(rankings), 'plans:')\n",
    "    for (plan, points) in rankings[:n]:\n",
    "        print(pplan(plan), pct(points))\n",
    "    plt.hist([s for (p, s) in rankings], bins=20)\n",
    "    \n",
    "def pct(x): return '{:6.1%}'.format(x)\n",
    "def pplan(plan): return '(' + ', '.join('{:2}'.format(c) for c in plan) + ')'"
   ]
  },
  {
   "cell_type": "code",
   "execution_count": 5,
   "metadata": {},
   "outputs": [
    {
     "data": {
      "text/plain": [
       "[((0, 25, 0, 0, 0, 0, 0, 25, 25, 25), 1),\n",
       " ((26, 5, 5, 5, 6, 7, 26, 0, 0, 0), 0.5),\n",
       " ((25, 0, 0, 0, 0, 0, 0, 25, 25, 25), 0)]"
      ]
     },
     "execution_count": 5,
     "metadata": {},
     "output_type": "execute_result"
    }
   ],
   "source": [
    "# This is what the result of a tournament looks like:\n",
    "tournament({(26, 5, 5, 5, 6, 7, 26, 0,  0, 0),\n",
    "            (25, 0, 0, 0, 0, 0, 0, 25, 25, 25),\n",
    "            (0, 25, 0, 0, 0, 0, 0, 25, 25, 25)})"
   ]
  },
  {
   "cell_type": "code",
   "execution_count": 6,
   "metadata": {},
   "outputs": [
    {
     "name": "stdout",
     "output_type": "stream",
     "text": [
      "Top 10 of 1202 plans:\n",
      "( 0,  3,  4,  7, 16, 24,  4, 34,  4,  4)  85.6%\n",
      "( 5,  7,  9, 11, 15, 21, 25,  2,  2,  3)  84.1%\n",
      "( 3,  5,  8, 10, 13,  1, 26, 30,  2,  2)  83.3%\n",
      "( 2,  2,  6, 12,  2, 18, 24, 30,  2,  2)  83.3%\n",
      "( 2,  8,  2,  2, 10, 18, 26, 26,  3,  3)  83.2%\n",
      "( 3,  6,  7,  9, 11,  2, 27, 31,  2,  2)  83.2%\n",
      "( 1,  1,  1,  5, 11, 16, 28, 29,  3,  5)  82.8%\n",
      "( 1,  3,  1,  1, 17, 20, 21, 30,  3,  3)  82.6%\n",
      "( 3,  6, 10, 12, 16, 21, 26,  2,  2,  2)  82.4%\n",
      "( 6,  6,  6, 11, 20, 21, 21,  3,  3,  3)  82.2%\n"
     ]
    },
    {
     "data": {
      "image/png": "[encoded data removed]",
      "text/plain": [
       "<matplotlib.figure.Figure at 0x10b2c3a20>"
      ]
     },
     "metadata": {},
     "output_type": "display_data"
    }
   ],
   "source": [
    "# A tournament with all 1202 plans:\n",
    "rankings = tournament(plans)\n",
    "show(rankings)"
   ]
  },
  {
   "cell_type": "markdown",
   "metadata": {},
   "source": [
    "It looks like there are a few really bad plans in there.  Let's just keep the top 1000 plans (out of 1202), and re-run the rankings:"
   ]
  },
  {
   "cell_type": "code",
   "execution_count": 7,
   "metadata": {},
   "outputs": [
    {
     "name": "stdout",
     "output_type": "stream",
     "text": [
      "Top 10 of 1000 plans:\n",
      "( 0,  3,  4,  7, 16, 24,  4, 34,  4,  4)  87.4%\n",
      "( 5,  5,  5,  5,  5,  5, 27, 30,  6,  7)  84.8%\n",
      "( 5,  5,  5,  5,  5,  5, 30, 30,  5,  5)  84.2%\n",
      "( 3,  3,  5,  5,  7,  7, 30, 30,  5,  5)  84.1%\n",
      "( 1,  2,  3,  4,  6, 16, 25, 33,  4,  6)  82.5%\n",
      "( 2,  2,  2,  5,  5, 26, 26, 26,  3,  3)  82.4%\n",
      "( 1,  1,  1,  5, 11, 16, 28, 29,  3,  5)  82.0%\n",
      "( 0,  1,  3,  3, 11, 18, 25, 33,  3,  3)  82.0%\n",
      "( 5,  7,  9, 11, 15, 21, 25,  2,  2,  3)  81.7%\n",
      "( 0,  0,  5,  5, 25,  3, 25,  3, 31,  3)  81.5%\n"
     ]
    },
    {
     "data": {
      "image/png": "[encoded data removed]",
      "text/plain": [
       "<matplotlib.figure.Figure at 0x113439358>"
      ]
     },
     "metadata": {},
     "output_type": "display_data"
    }
   ],
   "source": [
    "plans = {A for (A, _) in rankings[:1000]}\n",
    "rankings = tournament(plans)\n",
    "show(rankings)"
   ]
  },
  {
   "cell_type": "markdown",
   "metadata": {},
   "source": [
    "The top 10 plans are still winning over 80%, and the top plan remains `(0, 3, 4, 7, 16, 24, 4, 34, 4, 4)`. This is an interesting plan: it places most of the soldiers on castles 4+5+6+8, which totals only 23 points, so it needs to pick up 5 more points from the other castles (that have mostly 4 soldiers attacking each one). Is this a good strategy? Where should we optiomally allocate soldiers? \n",
    "\n",
    "To gain some insight, I'll create a plot with 10 curves, one for each castle. Each curve maps the number of soldiers sent to the castle (on the x-axis) to the expected points won (against the 1000 plans) on the y-axis:\n"
   ]
  },
  {
   "cell_type": "code",
   "execution_count": 8,
   "metadata": {},
   "outputs": [
    {
     "data": {
      "image/png": "[encoded data removed]",
      "text/plain": [
       "<matplotlib.figure.Figure at 0x10adc7160>"
      ]
     },
     "metadata": {},
     "output_type": "display_data"
    }
   ],
   "source": [
    "def plotter(plans, X=range(41)):\n",
    "    X = list(X)\n",
    "    def mean_reward(c, s): return mean(reward(s, p[c], c+1) for p in plans)\n",
    "    for c in range(10):\n",
    "        plt.plot(X, [mean_reward(c, s) for s in X], '.-')\n",
    "    plt.xlabel('Number of soldiers (on each of the ten castles)')\n",
    "    plt.ylabel('Expected points won')\n",
    "    plt.grid()\n",
    "        \n",
    "plotter(plans)"
   ]
  },
  {
   "cell_type": "markdown",
   "metadata": {},
   "source": [
    "For example, this says that for castle 10 (the orange line at top), there is a big gain in expected return as we increase from 0 to 4 soldiers, and after that the gains are relatively less steep. This plot is interesting, but I can't see how to directly read off a best plan from it.\n",
    "\n",
    "## Hillclimbing\n",
    "\n",
    "Instead I'll see if I can improve the existing plans, using a simple *hillclimbing* strategy: Take a Plan A, and change it by randomly moving some soldiers from one castle to another. If that yields more `mean_points`, then keep the updated plan, otherwise discard it. Repeat."
   ]
  },
  {
   "cell_type": "code",
   "execution_count": 9,
   "metadata": {},
   "outputs": [],
   "source": [
    "def hillclimb(A, plans=plans, steps=1000):\n",
    "    \"Try to improve Plan A, repeat `steps` times; return new plan and total.\"\n",
    "    m = mean_points(A, plans)\n",
    "    for _ in range(steps):\n",
    "        B = mutate(A)\n",
    "        m, A = max((m, A), \n",
    "                   (mean_points(B, plans), B))\n",
    "    return A, m\n",
    "\n",
    "def mutate(plan):\n",
    "    \"Return a new plan that is a slight mutation.\"\n",
    "    plan = list(plan) # So we can modify it.\n",
    "    i, j = random.sample(castles, 2)\n",
    "    plan[i], plan[j] = random_split(plan[i] + plan[j])\n",
    "    return Plan(plan)\n",
    "\n",
    "def random_split(n):\n",
    "    \"Split the integer n into two integers that sum to n.\"\n",
    "    r = random.randint(0, n)\n",
    "    return r, n - r"
   ]
  },
  {
   "cell_type": "markdown",
   "metadata": {},
   "source": [
    "Let's see how well this works. Remember, the best plan so far had a score of `87.4%`. Can we improve on that?"
   ]
  },
  {
   "cell_type": "code",
   "execution_count": 10,
   "metadata": {},
   "outputs": [
    {
     "data": {
      "text/plain": [
       "((0, 3, 4, 15, 7, 21, 3, 31, 3, 13), 0.916)"
      ]
     },
     "execution_count": 10,
     "metadata": {},
     "output_type": "execute_result"
    }
   ],
   "source": [
    "hillclimb((0, 3, 4, 7, 16, 24, 4, 34, 4, 4))"
   ]
  },
  {
   "cell_type": "markdown",
   "metadata": {},
   "source": [
    "We got an improvement. Let's see what happens if we start with other plans:"
   ]
  },
  {
   "cell_type": "code",
   "execution_count": 11,
   "metadata": {},
   "outputs": [
    {
     "data": {
      "text/plain": [
       "((0, 5, 5, 12, 7, 22, 3, 31, 3, 12), 0.912)"
      ]
     },
     "execution_count": 11,
     "metadata": {},
     "output_type": "execute_result"
    }
   ],
   "source": [
    "hillclimb((10, 10, 10, 10, 10, 10, 10, 10, 10, 10))"
   ]
  },
  {
   "cell_type": "code",
   "execution_count": 12,
   "metadata": {},
   "outputs": [
    {
     "data": {
      "text/plain": [
       "((1, 3, 4, 14, 7, 21, 3, 31, 4, 12), 0.9105)"
      ]
     },
     "execution_count": 12,
     "metadata": {},
     "output_type": "execute_result"
    }
   ],
   "source": [
    "hillclimb((0, 1, 2, 3, 4, 18, 18, 18, 18, 18))"
   ]
  },
  {
   "cell_type": "code",
   "execution_count": 13,
   "metadata": {},
   "outputs": [
    {
     "data": {
      "text/plain": [
       "((0, 5, 5, 15, 7, 21, 3, 31, 6, 7), 0.9065)"
      ]
     },
     "execution_count": 13,
     "metadata": {},
     "output_type": "execute_result"
    }
   ],
   "source": [
    "hillclimb((2, 3, 5, 5, 5, 20, 20, 20, 10, 10))"
   ]
  },
  {
   "cell_type": "code",
   "execution_count": 14,
   "metadata": {},
   "outputs": [
    {
     "data": {
      "text/plain": [
       "((0, 2, 6, 7, 18, 1, 26, 2, 32, 6), 0.8855)"
      ]
     },
     "execution_count": 14,
     "metadata": {},
     "output_type": "execute_result"
    }
   ],
   "source": [
    "hillclimb((0, 0, 5, 5, 25, 3, 25, 3, 31, 3))"
   ]
  },
  {
   "cell_type": "markdown",
   "metadata": {},
   "source": [
    "What if we hillclimb 20 times longer?"
   ]
  },
  {
   "cell_type": "code",
   "execution_count": 15,
   "metadata": {},
   "outputs": [
    {
     "data": {
      "text/plain": [
       "((0, 5, 6, 14, 9, 21, 3, 31, 3, 8), 0.9065)"
      ]
     },
     "execution_count": 15,
     "metadata": {},
     "output_type": "execute_result"
    }
   ],
   "source": [
    "hillclimb((0, 3, 4, 7, 16, 24, 4, 34, 4, 4), steps=20000)"
   ]
  },
  {
   "cell_type": "markdown",
   "metadata": {},
   "source": [
    "## Opponent modeling\n",
    "\n",
    "To have a chance of winning the second round of this contest, we have to predict what the other entries will be like. Nobody knows for sure, but I can hypothesize that the entries will be slightly better than the first round, and try to approximate that by hillclimbing from each of the first-round plans for a small number of steps:"
   ]
  },
  {
   "cell_type": "code",
   "execution_count": 16,
   "metadata": {},
   "outputs": [],
   "source": [
    "def hillclimbers(plans, steps=100):\n",
    "    \"Return a sorted list of [(improved_plan, mean_points), ...]\"\n",
    "    pairs = {hillclimb(plan, plans, steps) for plan in plans}\n",
    "    return sorted(pairs, key=lambda pair: pair[1], reverse=True)"
   ]
  },
  {
   "cell_type": "code",
   "execution_count": 17,
   "metadata": {},
   "outputs": [
    {
     "data": {
      "text/plain": [
       "[((29, 19, 2, 10, 6, 5, 3, 1, 25, 0), 1),\n",
       " ((11, 9, 18, 3, 1, 11, 0, 27, 0, 0), 1),\n",
       " ((0, 25, 0, 0, 0, 0, 0, 25, 25, 25), 1)]"
      ]
     },
     "execution_count": 17,
     "metadata": {},
     "output_type": "execute_result"
    }
   ],
   "source": [
    "# For example:\n",
    "hillclimbers({(26, 5, 5, 5, 6, 7, 26, 0,  0, 0),\n",
    "              (25, 0, 0, 0, 0, 0, 0, 25, 25, 25),\n",
    "              (0, 25, 0, 0, 0, 0, 0, 25, 25, 25)})"
   ]
  },
  {
   "cell_type": "markdown",
   "metadata": {},
   "source": [
    "I will define `plans2` (and `rankings2`) to be my estimate of the entries for round 2:"
   ]
  },
  {
   "cell_type": "code",
   "execution_count": 18,
   "metadata": {},
   "outputs": [
    {
     "name": "stdout",
     "output_type": "stream",
     "text": [
      "CPU times: user 6min 11s, sys: 3.21 s, total: 6min 14s\n",
      "Wall time: 6min 17s\n",
      "Top 10 of 1000 plans:\n",
      "( 1,  4,  5, 15,  6, 21,  3, 31,  3, 11)  90.8%\n",
      "( 0,  3,  5, 14,  7, 21,  3, 30,  4, 13)  90.6%\n",
      "( 0,  4,  6, 15,  9, 21,  4, 31,  5,  5)  90.2%\n",
      "( 2,  4,  3, 13,  5, 22,  3, 32,  4, 12)  90.1%\n",
      "( 0,  3,  5, 15,  8, 21,  4, 32,  6,  6)  90.0%\n",
      "( 0,  3,  5, 15,  6, 24,  3, 31,  5,  8)  90.0%\n",
      "( 0,  3,  6, 13,  6, 21,  5, 30,  4, 12)  90.0%\n",
      "( 3,  4,  5, 15,  7, 21,  2, 31,  6,  6)  89.9%\n",
      "( 2,  3,  3, 13,  6, 21,  3, 30,  5, 14)  89.8%\n",
      "( 0,  2,  2, 12,  2, 23,  4, 31,  3, 21)  89.8%\n"
     ]
    },
    {
     "data": {
      "image/png": "[encoded data removed]",
      "text/plain": [
       "<matplotlib.figure.Figure at 0x113a56908>"
      ]
     },
     "metadata": {},
     "output_type": "display_data"
    }
   ],
   "source": [
    "%time rankings2 = hillclimbers(plans)\n",
    "plans2 = {A for (A, _) in rankings2}\n",
    "show(rankings2)"
   ]
  },
  {
   "cell_type": "markdown",
   "metadata": {},
   "source": [
    "Even though we only took 100 steps, the `plans2` plans are greatly improved: Almost all of them defeat 75% or more of the first-round `plans`. The top 10 plans are all very  similar, targeting castles 4+6+8+10 (for 28 points), but reserving 20 or soldiers to spread among the other castles. Let's look more carefully at every 40th plan, plus the last one:"
   ]
  },
  {
   "cell_type": "code",
   "execution_count": 21,
   "metadata": {},
   "outputs": [
    {
     "name": "stdout",
     "output_type": "stream",
     "text": [
      "( 1,  4,  5, 15,  6, 21,  3, 31,  3, 11)  90.8%\n",
      "( 0,  6,  3, 13,  3, 22,  2, 32,  4, 15)  88.9%\n",
      "( 1,  3,  6, 13,  9, 22,  1, 30,  4, 11)  88.3%\n",
      "( 2,  2,  1, 13,  3, 21,  2, 32,  3, 21)  87.9%\n",
      "( 0,  2,  5,  5, 15,  2, 28, 31,  5,  7)  87.6%\n",
      "( 2,  2,  4, 14,  9,  1, 27, 30,  6,  5)  87.3%\n",
      "( 3,  2,  3, 12,  3, 28,  3, 32,  6,  8)  87.0%\n",
      "( 1,  3,  2,  5, 18,  3, 26,  3, 33,  6)  86.7%\n",
      "( 0,  4,  4,  6, 15,  3, 29, 30,  5,  4)  86.5%\n",
      "( 5,  5,  4,  5, 13, 22,  2, 29,  3, 12)  86.2%\n",
      "( 5,  6,  5,  6, 16, 24, 26,  1,  5,  6)  85.9%\n",
      "( 0,  2,  5, 15,  8,  3, 20, 36,  6,  5)  85.7%\n",
      "( 5,  1,  6, 12,  2, 24,  5, 32,  4,  9)  85.4%\n",
      "( 2,  5,  8, 16, 11,  3,  2, 36,  5, 12)  85.1%\n",
      "( 2,  7,  3, 15, 14,  2,  3, 31,  9, 12)  84.8%\n",
      "( 6,  5,  8,  6,  7, 22, 30,  3,  7,  6)  84.6%\n",
      "( 5,  3,  3,  5,  3, 21, 26, 26,  3,  5)  84.4%\n",
      "( 0,  2,  4, 13,  2, 22, 17, 33,  2,  5)  84.0%\n",
      "( 0,  7, 12,  6,  8, 21,  2, 29, 12,  3)  83.5%\n",
      "( 5,  5,  4, 13, 18,  2, 26,  2,  6, 19)  83.0%\n",
      "( 5,  6,  3, 15, 17, 24,  4,  2,  5, 19)  82.5%\n",
      "( 5,  6,  5,  9,  6, 22, 34,  1,  7,  5)  81.8%\n",
      "( 4,  3,  7, 17, 17, 22,  3,  3,  5, 19)  81.0%\n",
      "( 0,  1,  2, 11, 12, 13, 28, 27,  2,  4)  80.4%\n",
      "( 5,  6, 13, 16, 15, 26,  2,  4,  7,  6)  78.9%\n",
      "( 0,  0,  1, 13,  0,  1, 24, 21, 36,  4)  70.3%\n"
     ]
    }
   ],
   "source": [
    "for (p, m) in rankings2[::40] + [rankings2[-1]]:\n",
    "    print(pplan(p), pct(m))"
   ]
  },
  {
   "cell_type": "markdown",
   "metadata": {},
   "source": [
    "We see a wider variety in plans as we go farther down the rankings. Now for the plot:"
   ]
  },
  {
   "cell_type": "code",
   "execution_count": 22,
   "metadata": {},
   "outputs": [
    {
     "data": {
      "image/png": "[encoded data removed]",
      "text/plain": [
       "<matplotlib.figure.Figure at 0x113b38a90>"
      ]
     },
     "metadata": {},
     "output_type": "display_data"
    }
   ],
   "source": [
    "plotter(plans2)"
   ]
  },
  {
   "cell_type": "markdown",
   "metadata": {},
   "source": [
    "We see that many castles (e.g. 9 (green), 8 (blue), 7 (black), 6 (yellowish)) have two plateaus. Castle 7 (black) has a plateau at 3.5 points for 6 to 20 soldiers (suggesting that 6 soldiers is a good investment and 20 soldiers a bad investment), and then another plateau at 7 points for everything above 30 soldiers.\n",
    "\n",
    "Now that we have an estimate of the opponents, we can use `hillclimbers` to try to find a plan that does well against all the others:"
   ]
  },
  {
   "cell_type": "code",
   "execution_count": 23,
   "metadata": {},
   "outputs": [
    {
     "name": "stdout",
     "output_type": "stream",
     "text": [
      "CPU times: user 5min 40s, sys: 1 s, total: 5min 41s\n",
      "Wall time: 5min 42s\n",
      "Top 10 of 1000 plans:\n",
      "( 3,  8, 10, 18, 21,  3,  5,  6, 10, 16)  99.9%\n",
      "( 1,  9, 10, 17, 21,  6,  4,  6,  9, 17)  99.9%\n",
      "( 1,  8, 10, 18, 21,  4,  4,  6, 11, 17)  99.9%\n",
      "( 0, 10, 10, 17, 20,  4,  5,  6,  7, 21)  99.9%\n",
      "( 2, 11,  1, 16, 18,  7,  6,  6,  8, 25)  99.8%\n",
      "( 1,  8, 11, 19, 20,  4,  6,  5,  7, 19)  99.8%\n",
      "( 0,  1, 11, 15, 18,  7,  6,  5, 13, 24)  99.8%\n",
      "( 2, 10,  1, 17, 18,  9,  5,  6,  8, 24)  99.8%\n",
      "( 1,  9, 10, 17, 19,  4,  6,  6,  9, 19)  99.8%\n",
      "( 0,  2, 11, 18, 21,  4,  6,  8,  8, 22)  99.8%\n"
     ]
    },
    {
     "data": {
      "image/png": "[encoded data removed]",
      "text/plain": [
       "<matplotlib.figure.Figure at 0x113d16588>"
      ]
     },
     "metadata": {},
     "output_type": "display_data"
    }
   ],
   "source": [
    "%time rankings3 = hillclimbers(plans2)\n",
    "show(rankings3)"
   ]
  },
  {
   "cell_type": "markdown",
   "metadata": {},
   "source": [
    "We can try even harder to improve the champ:"
   ]
  },
  {
   "cell_type": "code",
   "execution_count": 32,
   "metadata": {},
   "outputs": [
    {
     "data": {
      "text/plain": [
       "((3, 9, 10, 17, 21, 3, 5, 6, 7, 19), 1)"
      ]
     },
     "execution_count": 32,
     "metadata": {},
     "output_type": "execute_result"
    }
   ],
   "source": [
    "champ, _ = rankings3[0]\n",
    "hillclimb(champ, plans2, 10000)"
   ]
  },
  {
   "cell_type": "markdown",
   "metadata": {},
   "source": [
    "Here are some champion plans from previous runs of this notebook:"
   ]
  },
  {
   "cell_type": "code",
   "execution_count": 28,
   "metadata": {},
   "outputs": [],
   "source": [
    "champs = {\n",
    " (0, 1, 3, 16, 20, 3, 4, 5, 32, 16),\n",
    " (0, 1, 9, 16, 15, 24, 5, 5, 8, 17),\n",
    " (0, 1, 9, 16, 16, 24, 5, 5, 7, 17),\n",
    " (0, 2, 9, 16, 15, 24, 5, 5, 8, 16),\n",
    " (0, 2, 9, 16, 15, 25, 5, 4, 7, 17),\n",
    " (0, 3, 4, 7, 16, 24, 4, 34, 4, 4),\n",
    " (0, 3, 5, 6, 20, 4, 4, 33, 8, 17),\n",
    " (0, 4, 5, 7, 20, 4, 4, 33, 7, 16),\n",
    " (0, 4, 6, 7, 19, 4, 4, 31, 8, 17),\n",
    " (0, 4, 12, 18, 21, 7, 6, 4, 8, 20),\n",
    " (0, 4, 12, 19, 25, 4, 5, 6, 8, 17),\n",
    " (0, 5, 6, 7, 18, 4, 5, 32, 7, 16),\n",
    " (0, 5, 7, 3, 18, 4, 4, 34, 8, 17),\n",
    " (1, 2, 9, 16, 15, 24, 5, 4, 7, 17),\n",
    " (1, 2, 9, 16, 15, 24, 5, 4, 8, 16),\n",
    " (1, 2, 11, 16, 15, 24, 5, 4, 7, 15),\n",
    " (1, 3, 14, 18, 24, 4, 5, 6, 8, 17),\n",
    " (1, 6, 3, 16, 16, 24, 5, 5, 7, 17),\n",
    " (2, 3, 7, 16, 16, 25, 5, 5, 8, 13),\n",
    " (2, 3, 8, 16, 12, 25, 5, 4, 8, 17),\n",
    " (2, 3, 8, 16, 15, 24, 5, 4, 7, 16),\n",
    " (2, 3, 8, 16, 15, 25, 4, 5, 8, 14),\n",
    " (2, 3, 8, 16, 16, 24, 5, 5, 8, 13),\n",
    " (2, 3, 9, 15, 12, 25, 4, 5, 8, 17),\n",
    " (2, 3, 9, 16, 12, 24, 5, 5, 8, 16),\n",
    " (2, 4, 12, 18, 24, 4, 6, 5, 8, 17),\n",
    " (3, 3, 7, 16, 16, 24, 5, 5, 8, 13),\n",
    " (3, 3, 8, 16, 12, 25, 4, 4, 8, 17),\n",
    " (3, 3, 8, 16, 15, 25, 5, 4, 7, 14),\n",
    " (3, 4, 12, 18, 23, 4, 6, 5, 8, 17),\n",
    " (3, 4, 15, 18, 23, 4, 5, 6, 8, 14),\n",
    " (3, 5, 7, 16, 5, 4, 5, 34, 7, 14),\n",
    " (3, 6, 13, 17, 23, 4, 6, 5, 8, 15),\n",
    " (4, 3, 12, 18, 23, 4, 5, 6, 8, 17),\n",
    " (4, 5, 3, 15, 11, 23, 5, 5, 10, 19),\n",
    " (4, 6, 3, 16, 14, 25, 5, 5, 8, 14),\n",
    " (4, 6, 3, 16, 16, 24, 5, 5, 7, 14),\n",
    " (4, 6, 3, 16, 16, 24, 5, 5, 8, 13),\n",
    " (5, 3, 12, 17, 23, 4, 5, 6, 8, 17),\n",
    " (5, 5, 3, 16, 12, 25, 4, 5, 8, 17),\n",
    " (5, 6, 3, 16, 16, 24, 5, 5, 7, 13),\n",
    " (5, 6, 7, 3, 21, 4, 27, 5, 8, 14),\n",
    " (5, 6, 8, 3, 18, 4, 27, 5, 8, 16),\n",
    " (5, 6, 8, 3, 20, 4, 27, 5, 8, 14),\n",
    " (5, 6, 8, 3, 21, 4, 27, 5, 8, 13)}"
   ]
  },
  {
   "cell_type": "markdown",
   "metadata": {},
   "source": [
    "We can evaluate each of them against the original `plans`, against the improved `plans2`, against their fellow champs, and against all of those put together:"
   ]
  },
  {
   "cell_type": "code",
   "execution_count": 33,
   "metadata": {},
   "outputs": [
    {
     "name": "stdout",
     "output_type": "stream",
     "text": [
      "Plan                                      plans plans2 champs  all\n",
      "( 0,  5,  7,  3, 18,  4,  4, 34,  8, 17)  85.5%  96.0%  68.5%  90.2%\n",
      "( 0,  4,  6,  7, 19,  4,  4, 31,  8, 17)  84.7%  95.0%  63.0%  89.2%\n",
      "( 0,  1,  3, 16, 20,  3,  4,  5, 32, 16)  85.6%  95.2%  31.5%  89.0%\n",
      "( 0,  3,  5,  6, 20,  4,  4, 33,  8, 17)  84.1%  95.2%  60.9%  89.0%\n",
      "( 0,  5,  6,  7, 18,  4,  5, 32,  7, 16)  84.3%  96.3%  28.3%  88.9%\n",
      "( 3,  5,  7, 16,  5,  4,  5, 34,  7, 14)  85.2%  95.7%  18.5%  88.8%\n",
      "( 5,  6,  8,  3, 18,  4, 27,  5,  8, 16)  81.8%  96.4%  64.1%  88.6%\n",
      "( 0,  4,  5,  7, 20,  4,  4, 33,  7, 16)  84.7%  95.0%  18.5%  88.2%\n",
      "( 5,  6,  8,  3, 20,  4, 27,  5,  8, 14)  82.0%  96.2%  48.9%  88.2%\n",
      "( 0,  1,  9, 16, 15, 24,  5,  5,  8, 17)  78.2%  98.6%  72.8%  88.0%\n",
      "( 5,  6,  7,  3, 21,  4, 27,  5,  8, 14)  81.8%  96.0%  51.1%  88.0%\n",
      "( 0,  1,  9, 16, 16, 24,  5,  5,  7, 17)  79.1%  98.5%  46.7%  87.8%\n",
      "( 5,  6,  8,  3, 21,  4, 27,  5,  8, 13)  82.0%  95.2%  45.7%  87.6%\n",
      "( 2,  3,  9, 15, 12, 25,  4,  5,  8, 17)  78.5%  97.9%  58.7%  87.5%\n",
      "( 4,  5,  3, 15, 11, 23,  5,  5, 10, 19)  76.8%  97.8%  97.8%  87.5%\n",
      "( 2,  3,  8, 16, 12, 25,  5,  4,  8, 17)  78.2%  98.1%  57.6%  87.5%\n",
      "( 2,  3,  8, 16, 15, 25,  4,  5,  8, 14)  79.7%  97.9%  31.5%  87.5%\n",
      "( 0,  2,  9, 16, 15, 24,  5,  5,  8, 16)  78.5%  98.2%  50.0%  87.4%\n",
      "( 2,  3,  7, 16, 16, 25,  5,  5,  8, 13)  79.3%  97.5%  44.6%  87.4%\n",
      "( 4,  6,  3, 16, 14, 25,  5,  5,  8, 14)  79.0%  97.4%  48.9%  87.3%\n",
      "( 5,  5,  3, 16, 12, 25,  4,  5,  8, 17)  78.1%  97.8%  60.9%  87.3%\n",
      "( 4,  6,  3, 16, 16, 24,  5,  5,  7, 14)  80.3%  97.2%  21.7%  87.3%\n",
      "( 2,  3,  8, 16, 15, 24,  5,  4,  7, 16)  80.2%  97.8%  10.9%  87.2%\n",
      "( 1,  2,  9, 16, 15, 24,  5,  4,  7, 17)  79.8%  97.8%  19.6%  87.2%\n",
      "( 0,  2,  9, 16, 15, 25,  5,  4,  7, 17)  79.1%  97.9%  31.5%  87.2%\n",
      "( 2,  3,  8, 16, 16, 24,  5,  5,  8, 13)  79.5%  97.5%  29.3%  87.2%\n",
      "( 2,  3,  9, 16, 12, 24,  5,  5,  8, 16)  78.0%  98.2%  45.7%  87.1%\n",
      "( 3,  3,  8, 16, 15, 25,  5,  4,  7, 14)  80.3%  97.6%   6.5%  87.1%\n",
      "( 1,  2,  9, 16, 15, 24,  5,  4,  8, 16)  79.2%  97.6%  27.2%  87.0%\n",
      "( 3,  3,  7, 16, 16, 24,  5,  5,  8, 13)  79.8%  97.1%  26.1%  87.0%\n",
      "( 4,  6,  3, 16, 16, 24,  5,  5,  8, 13)  80.0%  96.7%  28.3%  87.0%\n",
      "( 3,  3,  8, 16, 12, 25,  4,  4,  8, 17)  78.8%  97.8%  28.3%  87.0%\n",
      "( 5,  6,  3, 16, 16, 24,  5,  5,  7, 13)  80.9%  96.5%   8.7%  86.9%\n",
      "( 1,  2, 11, 16, 15, 24,  5,  4,  7, 15)  79.9%  97.2%   6.5%  86.7%\n",
      "( 1,  6,  3, 16, 16, 24,  5,  5,  7, 17)  75.2%  97.9%  41.3%  85.5%\n",
      "( 5,  3, 12, 17, 23,  4,  5,  6,  8, 17)  64.3%  99.5%  84.8%  82.0%\n",
      "( 4,  3, 12, 18, 23,  4,  5,  6,  8, 17)  64.0%  99.5%  88.0%  81.9%\n",
      "( 3,  4, 12, 18, 23,  4,  6,  5,  8, 17)  63.2%  99.5%  88.0%  81.5%\n",
      "( 2,  4, 12, 18, 24,  4,  6,  5,  8, 17)  63.0%  99.5%  91.3%  81.5%\n",
      "( 3,  4, 15, 18, 23,  4,  5,  6,  8, 14)  63.4%  99.5%  76.1%  81.3%\n",
      "( 3,  6, 13, 17, 23,  4,  6,  5,  8, 15)  63.2%  99.4%  78.3%  81.2%\n",
      "( 1,  3, 14, 18, 24,  4,  5,  6,  8, 17)  62.4%  99.5%  93.5%  81.2%\n",
      "( 0,  4, 12, 19, 25,  4,  5,  6,  8, 17)  62.1%  99.5%  95.7%  81.1%\n",
      "( 1,  9, 11, 17, 21,  6,  5,  4, 10, 16)  62.1% 100.0%  76.1%  80.9%\n",
      "( 0,  4, 12, 18, 21,  7,  6,  4,  8, 20)  61.4%  99.6% 100.0%  80.9%\n",
      "( 1,  7, 13, 17, 23,  6,  6,  5,  8, 14)  62.4%  99.5%  78.3%  80.9%\n",
      "( 0,  3,  4,  7, 16, 24,  4, 34,  4,  4)  87.4%  37.6%   0.0%  61.1%\n"
     ]
    }
   ],
   "source": [
    "def μ(plan, plans): return pct(mean_points(plan,plans))\n",
    "all = plans | plans2 | champs\n",
    "\n",
    "print('Plan                                      plans plans2 champs  all')\n",
    "for p in sorted(champs, key=lambda p: -mean_points(p, all)):\n",
    "    print(pplan(p), μ(p, plans), μ(p, plans2), μ(p, champs), μ(p, all))"
   ]
  },
  {
   "cell_type": "markdown",
   "metadata": {},
   "source": [
    "Which plan is best? In the end, we don't know, because we don't know the pool we will be competing against."
   ]
  }
 ],
 "metadata": {
  "kernelspec": {
   "display_name": "Python 3",
   "language": "python",
   "name": "python3"
  },
  "language_info": {
   "codemirror_mode": {
    "name": "ipython",
    "version": 3
   },
   "file_extension": ".py",
   "mimetype": "text/x-python",
   "name": "python",
   "nbconvert_exporter": "python",
   "pygments_lexer": "ipython3",
   "version": "3.5.3"
  }
 },
 "nbformat": 4,
 "nbformat_minor": 2
}
