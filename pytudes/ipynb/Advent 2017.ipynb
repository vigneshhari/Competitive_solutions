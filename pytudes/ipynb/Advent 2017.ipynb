{
 "cells": [
  {
   "cell_type": "markdown",
   "metadata": {},
   "source": [
    "# December 2017: Advent of Code Solutions\n",
    "\n",
    "Peter Norvig\n",
    "\n",
    "I'm doing the [Advent of Code](https://adventofcode.com) puzzles, just like [last year](https://github.com/norvig/pytudes/blob/master/ipynb/Advent%20of%20Code.ipynb). This time, my terms of engagement are:\n",
    "\n",
    "* I won't write a summary of each day's puzzle description. Follow the links in the section headers (e.g. **[Day 1](https://adventofcode.com/2017/day/1)**) to understand what each puzzle is asking. \n",
    "* What you see is mostly the algorithm I first came up with first, although sometimes I go back and refactor if I think the original is unclear.\n",
    "* I do clean up the code a bit even after I solve the puzzle: adding docstrings, changing variable names, changing input boxes to `assert` statements.\n",
    "* I will describe my errors that slowed me down.\n",
    "* Some days I start on time and try to code very quickly (although I know that people at the top of the leader board will be much faster than me); other days I end up starting late and don't worry about going quickly.\n",
    "\n",
    "\n",
    "\n",
    "\n",
    "\n",
    "# Day 0: Imports and Utility Functions\n",
    "\n",
    "I might need these:"
   ]
  },
  {
   "cell_type": "code",
   "execution_count": 1,
   "metadata": {
    "collapsed": true
   },
   "outputs": [],
   "source": [
    "# Python 3.x Utility Functions\n",
    "\n",
    "%matplotlib inline\n",
    "import matplotlib.pyplot as plt\n",
    "\n",
    "import re\n",
    "import numpy as np\n",
    "import math\n",
    "import random\n",
    "\n",
    "from collections import Counter, defaultdict, namedtuple, deque, abc, OrderedDict\n",
    "from functools   import lru_cache\n",
    "from statistics  import mean, median, mode, stdev, variance\n",
    "from itertools   import (permutations, combinations, chain, cycle, product, islice, \n",
    "                         takewhile, zip_longest, count as count_from)\n",
    "from heapq       import heappop, heappush\n",
    "from numba       import jit\n",
    "\n",
    "identity = lambda x: x\n",
    "letters  = 'abcdefghijklmnopqrstuvwxyz'\n",
    "\n",
    "cache = lru_cache(None)\n",
    "\n",
    "cat = ''.join\n",
    "\n",
    "Ø   = frozenset() # Empty set\n",
    "inf = float('inf')\n",
    "BIG = 10 ** 999\n",
    "\n",
    "################ Functions for Input, Parsing\n",
    "\n",
    "def Input(day, year=2017):\n",
    "    \"Open this day's input file.\"\n",
    "    return open('data/advent{}/input{}.txt'.format(year, day))\n",
    "\n",
    "def Inputstr(day, year=2017): \n",
    "    \"The contents of this day's input file as a str.\"\n",
    "    return Input(day, year).read().rstrip('\\n')\n",
    "    \n",
    "def Array(lines):\n",
    "    \"Parse an iterable of str lines into a 2-D array. If `lines` is a str, splitlines.\"\n",
    "    if isinstance(lines, str): lines = lines.splitlines()\n",
    "    return mapt(Vector, lines)\n",
    "\n",
    "def Vector(line):\n",
    "    \"Parse a str into a tuple of atoms (numbers or str tokens).\"\n",
    "    return mapt(Atom, line.replace(',', ' ').split())\n",
    "\n",
    "def Integers(text): \n",
    "    \"Return a tuple of all integers in a string.\"\n",
    "    return mapt(int, re.findall(r'-?\\b\\d+\\b', text))\n",
    "\n",
    "def Atom(token):\n",
    "    \"Parse a str token into a number, or leave it as a str.\"\n",
    "    try:\n",
    "        return int(token)\n",
    "    except ValueError:\n",
    "        try:\n",
    "            return float(token)\n",
    "        except ValueError:\n",
    "            return token\n",
    "        \n",
    "def error(err=RuntimeError, *args): raise err(*args)\n",
    "\n",
    "################ Functions on Iterables\n",
    "\n",
    "def first(iterable, default=None): \n",
    "    \"The first item in an iterable, or default if it is empty.\"\n",
    "    return next(iter(iterable), default)\n",
    "\n",
    "def first_true(iterable, pred=None, default=None):\n",
    "    \"\"\"Returns the first true value in the iterable.\n",
    "    If no true value is found, returns *default*\n",
    "    If *pred* is not None, returns the first item\n",
    "    for which pred(item) is true.\"\"\"\n",
    "    # first_true([a,b,c], default=x) --> a or b or c or x\n",
    "    # first_true([a,b], fn, x) --> a if fn(a) else b if fn(b) else x\n",
    "    return next(filter(pred, iterable), default)\n",
    "\n",
    "def nth(iterable, n, default=None):\n",
    "    \"Returns the nth item of iterable, or a default value\"\n",
    "    return next(islice(iterable, n, None), default)\n",
    "\n",
    "def upto(iterable, maxval):\n",
    "    \"From a monotonically increasing iterable, generate all the values <= maxval.\"\n",
    "    # Why <= maxval rather than < maxval? In part because that's how Ruby's upto does it.\n",
    "    return takewhile(lambda x: x <= maxval, iterable)\n",
    "\n",
    "def groupby(iterable, key=identity):\n",
    "    \"Return a dict of {key(item): [items...]} grouping all items in iterable by keys.\"\n",
    "    groups = defaultdict(list)\n",
    "    for item in iterable:\n",
    "        groups[key(item)].append(item)\n",
    "    return groups\n",
    "\n",
    "def grouper(iterable, n, fillvalue=None):\n",
    "    \"\"\"Collect data into fixed-length chunks:\n",
    "    grouper('ABCDEFG', 3, 'x') --> ABC DEF Gxx\"\"\"\n",
    "    args = [iter(iterable)] * n\n",
    "    return zip_longest(*args, fillvalue=fillvalue)\n",
    "\n",
    "def overlapping(iterable, n):\n",
    "    \"\"\"Generate all (overlapping) n-element subsequences of iterable.\n",
    "    overlapping('ABCDEFG', 3) --> ABC BCD CDE DEF EFG\"\"\"\n",
    "    if isinstance(iterable, abc.Sequence):\n",
    "        yield from (iterable[i:i+n] for i in range(len(iterable) + 1 - n))\n",
    "    else:\n",
    "        result = deque(maxlen=n)\n",
    "        for x in iterable:\n",
    "            result.append(x)\n",
    "            if len(result) == n:\n",
    "                yield tuple(result)\n",
    "                \n",
    "def pairwise(iterable):\n",
    "    \"s -> (s0,s1), (s1,s2), (s2, s3), ...\"\n",
    "    return overlapping(iterable, 2)\n",
    "\n",
    "def sequence(iterable, type=tuple):\n",
    "    \"Coerce iterable to sequence: leave alone if already a sequence, else make it `type`.\"\n",
    "    return iterable if isinstance(iterable, abc.Sequence) else type(iterable)\n",
    "\n",
    "def join(iterable, sep=''):\n",
    "    \"Join the items in iterable, converting each to a string first.\"\n",
    "    return sep.join(map(str, iterable))\n",
    "                \n",
    "def powerset(iterable):\n",
    "    \"Yield all subsets of items.\"\n",
    "    items = list(iterable)\n",
    "    for r in range(len(items)+1):\n",
    "        for c in combinations(items, r):\n",
    "            yield c\n",
    "            \n",
    "def quantify(ite1rable, pred=bool):\n",
    "    \"Count how many times the predicate is true.\"\n",
    "    return sum(map(pred, iterable))\n",
    "\n",
    "def length(iterable):\n",
    "    \"Same as len(list(iterable)), but without consuming memory.\"\n",
    "    return sum(1 for _ in iterable)\n",
    "\n",
    "def shuffled(iterable):\n",
    "    \"Create a new list out of iterable, and shuffle it.\"\n",
    "    new = list(iterable)\n",
    "    random.shuffle(new)\n",
    "    return new\n",
    "    \n",
    "flatten = chain.from_iterable\n",
    "\n",
    "def repeat(n, fn, arg):\n",
    "    \"Repeat arg=fn(arg) n times.\"\n",
    "    for i in range(n):\n",
    "        arg = fn(arg)\n",
    "    return arg\n",
    "\n",
    "################ Making immutable objects\n",
    "            \n",
    "class Set(frozenset):\n",
    "    \"A frozenset, but with a prettier printer.\"\n",
    "    def __repr__(self): return '{' + join(sorted(self), ', ') + '}'\n",
    "    \n",
    "def canon(items, typ=None):\n",
    "    \"Canonicalize these order-independent items into a hashable canonical form.\"\n",
    "    typ = typ or (cat if isinstance(items, str) else tuple)\n",
    "    return typ(sorted(items))\n",
    "\n",
    "def mapt(fn, *args): \n",
    "    \"Do a map, and make the results into a tuple.\"\n",
    "    return tuple(map(fn, *args))\n",
    "            \n",
    "################ Math Functions\n",
    "            \n",
    "def transpose(matrix): return tuple(zip(*matrix))\n",
    "\n",
    "def isqrt(n):\n",
    "    \"Integer square root (rounds down).\"\n",
    "    return int(n ** 0.5)\n",
    "\n",
    "def ints(start, end):\n",
    "    \"The integers from start to end, inclusive: range(start, end+1)\"\n",
    "    return range(start, end + 1)\n",
    "\n",
    "def floats(start, end, step=1.0):\n",
    "    \"Yield floats from start to end (inclusive), by increments of step.\"\n",
    "    m = (1.0 if step >= 0 else -1.0)\n",
    "    while start * m <= end * m:\n",
    "        yield start\n",
    "        start += step\n",
    "        \n",
    "def multiply(numbers):\n",
    "    \"Multiply all the numbers together.\"\n",
    "    result = 1\n",
    "    for n in numbers:\n",
    "        result *= n\n",
    "    return result\n",
    "\n",
    "import operator as op\n",
    "\n",
    "operations = {'>': op.gt, '>=': op.ge, '==': op.eq,\n",
    "              '<': op.lt, '<=': op.le, '!=': op.ne,\n",
    "              '+': op.add, '-': op.sub, '*': op.mul, \n",
    "              '/': op.truediv, '**': op.pow}\n",
    "\n",
    "################ 2-D points implemented using (x, y) tuples\n",
    "\n",
    "def X(point): x, y = point; return x\n",
    "def Y(point): x, y = point; return y\n",
    "\n",
    "origin = (0, 0)\n",
    "UP, DOWN, LEFT, RIGHT = (0, 1), (0, -1), (-1, 0), (1, 0)\n",
    "\n",
    "def neighbors4(point): \n",
    "    \"The four neighboring squares.\"\n",
    "    x, y = point\n",
    "    return (          (x, y-1),\n",
    "            (x-1, y),           (x+1, y), \n",
    "                      (x, y+1))\n",
    "\n",
    "def neighbors8(point): \n",
    "    \"The eight neighboring squares.\"\n",
    "    x, y = point \n",
    "    return ((x-1, y-1), (x, y-1), (x+1, y-1),\n",
    "            (x-1, y),             (x+1, y),\n",
    "            (x-1, y+1), (x, y+1), (x+1, y+1))\n",
    "\n",
    "def cityblock_distance(P, Q=origin): \n",
    "    \"Manhatten distance between two points.\"\n",
    "    return sum(abs(p - q) for p, q in zip(P, Q))\n",
    "\n",
    "def distance(P, Q=origin): \n",
    "    \"Hypotenuse distance between two points.\"\n",
    "    return sum((p - q) ** 2 for p, q in zip(P, Q)) ** 0.5\n",
    "\n",
    "################ Debugging \n",
    "\n",
    "def trace1(f):\n",
    "    \"Print a trace of the input and output of a function on one line.\"\n",
    "    def traced_f(*args):\n",
    "        result = f(*args)\n",
    "        print('{}({}) = {}'.format(f.__name__, ', '.join(map(str, args)), result))\n",
    "        return result\n",
    "    return traced_f\n",
    "\n",
    "def grep(pattern, iterable):\n",
    "    \"Print lines from iterable that match pattern.\"\n",
    "    for line in iterable:\n",
    "        if re.search(pattern, line):\n",
    "            print(line)\n",
    "            \n",
    "class Struct:\n",
    "    \"A structure that can have any fields defined.\"\n",
    "    def __init__(self, **entries): self.__dict__.update(entries)\n",
    "    def __repr__(self): \n",
    "        fields = ['{}={}'.format(f, self.__dict__[f]) \n",
    "                  for f in sorted(self.__dict__)]\n",
    "        return 'Struct({})'.format(', '.join(fields))\n",
    "\n",
    "################ A* and Breadth-First Search (tracking states, not actions)\n",
    "\n",
    "def always(value): return (lambda *args: value)\n",
    "\n",
    "def Astar(start, moves_func, h_func, cost_func=always(1)):\n",
    "    \"Find a shortest sequence of states from start to a goal state (where h_func(s) == 0).\"\n",
    "    frontier  = [(h_func(start), start)] # A priority queue, ordered by path length, f = g + h\n",
    "    previous  = {start: None}  # start state has no previous state; other states will\n",
    "    path_cost = {start: 0}     # The cost of the best path to a state.\n",
    "    Path      = lambda s: ([] if (s is None) else Path(previous[s]) + [s])\n",
    "    while frontier:\n",
    "        (f, s) = heappop(frontier)\n",
    "        if h_func(s) == 0:\n",
    "            return Path(s)\n",
    "        for s2 in moves_func(s):\n",
    "            g = path_cost[s] + cost_func(s, s2)\n",
    "            if s2 not in path_cost or g < path_cost[s2]:\n",
    "                heappush(frontier, (g + h_func(s2), s2))\n",
    "                path_cost[s2] = g\n",
    "                previous[s2] = s\n",
    "\n",
    "def bfs(start, moves_func, goals):\n",
    "    \"Breadth-first search\"\n",
    "    goal_func = (goals if callable(goals) else lambda s: s in goals)\n",
    "    return Astar(start, moves_func, lambda s: (0 if goal_func(s) else 1))"
   ]
  },
  {
   "cell_type": "code",
   "execution_count": 2,
   "metadata": {},
   "outputs": [
    {
     "data": {
      "text/plain": [
       "'pass'"
      ]
     },
     "execution_count": 2,
     "metadata": {},
     "output_type": "execute_result"
    }
   ],
   "source": [
    "def tests():\n",
    "    # Functions for Input, Parsing\n",
    "    assert Array('''1 2 3\n",
    "                    4 5 6''') == ((1, 2, 3), \n",
    "                                  (4, 5, 6))\n",
    "    assert Vector('testing 1 2 3.') == ('testing', 1, 2, 3.0)\n",
    "    \n",
    "    # Functions on Iterables\n",
    "    assert first('abc') == first(['a', 'b', 'c']) == 'a'\n",
    "    assert first_true([0, None, False, {}, 42, 43]) == 42\n",
    "    assert nth('abc', 1) == nth(iter('abc'), 1) == 'b'\n",
    "    assert cat(upto('abcdef', 'd')) == 'abcd'\n",
    "    assert cat(['do', 'g']) == 'dog'\n",
    "    assert groupby([-3, -2, -1, 1, 2], abs) == {1: [-1, 1], 2: [-2, 2], 3: [-3]}\n",
    "    assert list(grouper(range(8), 3)) == [(0, 1, 2), (3, 4, 5), (6, 7, None)]\n",
    "    assert list(overlapping((0, 1, 2, 3, 4), 3)) == [(0, 1, 2), (1, 2, 3), (2, 3, 4)]\n",
    "    assert list(overlapping('abcdefg', 4)) == ['abcd', 'bcde', 'cdef', 'defg']  \n",
    "    assert list(pairwise((0, 1, 2, 3, 4))) == [(0, 1), (1, 2), (2, 3), (3, 4)]\n",
    "    assert sequence('seq') == 'seq'\n",
    "    assert sequence((i**2 for i in range(5))) == (0, 1, 4, 9, 16)\n",
    "    assert join(range(5)) == '01234'\n",
    "    assert join(range(5), ', ') == '0, 1, 2, 3, 4'\n",
    "    assert multiply([1, 2, 3, 4]) == 24\n",
    "    assert transpose(((1, 2, 3), (4, 5, 6))) == ((1, 4), (2, 5), (3, 6))\n",
    "    assert isqrt(9) == 3 == isqrt(10)\n",
    "    assert ints(1, 100) == range(1, 101)\n",
    "    assert identity('anything') == 'anything'\n",
    "    assert set(powerset({1, 2, 3})) == {\n",
    "        (), (1,), (1, 2), (1, 2, 3), (1, 3), (2,), (2, 3), (3,)}\n",
    "    assert quantify(['testing', 1, 2, 3, int, len], callable) == 2 # int and len are callable\n",
    "    assert quantify([0, False, None, '', [], (), {}, 42]) == 1  # Only 42 is truish\n",
    "    assert set(shuffled('abc')) == set('abc')\n",
    "    assert canon('abecedarian') == 'aaabcdeeinr'\n",
    "    assert canon([9, 1, 4]) == canon({1, 4, 9}) == (1, 4, 9)\n",
    "    assert mapt(math.sqrt, [1, 9, 4]) == (1, 3, 2)\n",
    "    \n",
    "    # Math\n",
    "    assert transpose([(1, 2, 3), (4, 5, 6)]) == ((1, 4), (2, 5), (3, 6))\n",
    "    assert isqrt(10) == isqrt(9) == 3\n",
    "    assert ints(1, 5) == range(1, 6)\n",
    "    assert list(floats(1, 5)) == [1., 2., 3., 4., 5.]\n",
    "    assert multiply(ints(1, 10)) == math.factorial(10) == 3628800\n",
    "    \n",
    "    # 2-D points\n",
    "    P = (3, 4)\n",
    "    assert X(P) == 3 and Y(P) == 4\n",
    "    assert cityblock_distance(P) == cityblock_distance(P, origin) == 7\n",
    "    assert distance(P) == distance(P, origin) == 5\n",
    "    \n",
    "    # Search\n",
    "    assert Astar((4, 4), neighbors8, distance) == [(4, 4), (3, 3), (2, 2), (1, 1), (0, 0)]\n",
    "    assert bfs((4, 4), neighbors8, {origin}) == [(4, 4), (3, 3), (2, 2), (1, 1), (0, 0)]\n",
    "    forty2 = always(42)\n",
    "    assert forty2() == forty2('?') == forty2(4, 2) == 42\n",
    "\n",
    "    return 'pass'\n",
    "\n",
    "tests()"
   ]
  },
  {
   "cell_type": "markdown",
   "metadata": {},
   "source": [
    "# [Day 1](https://adventofcode.com/2017/day/1): Inverse Captcha\n",
    "\n",
    "This was easier than I remember last year's puzzles being:\n"
   ]
  },
  {
   "cell_type": "code",
   "execution_count": 3,
   "metadata": {},
   "outputs": [
    {
     "data": {
      "text/plain": [
       "(2014, (3, 2, 9, 4, 1, 9, 9, 4, 7, 1))"
      ]
     },
     "execution_count": 3,
     "metadata": {},
     "output_type": "execute_result"
    }
   ],
   "source": [
    "digits = mapt(int, Inputstr(1))\n",
    "N = len(digits)\n",
    "\n",
    "N, digits[:10]"
   ]
  },
  {
   "cell_type": "code",
   "execution_count": 4,
   "metadata": {},
   "outputs": [
    {
     "data": {
      "text/plain": [
       "1158"
      ]
     },
     "execution_count": 4,
     "metadata": {},
     "output_type": "execute_result"
    }
   ],
   "source": [
    "sum(digits[i] \n",
    "    for i in range(N) \n",
    "    if digits[i] == digits[i - 1])"
   ]
  },
  {
   "cell_type": "markdown",
   "metadata": {},
   "source": [
    "**Part Two**:"
   ]
  },
  {
   "cell_type": "code",
   "execution_count": 5,
   "metadata": {},
   "outputs": [
    {
     "data": {
      "text/plain": [
       "1132"
      ]
     },
     "execution_count": 5,
     "metadata": {},
     "output_type": "execute_result"
    }
   ],
   "source": [
    "sum(digits[i] \n",
    "    for i in range(N) \n",
    "    if digits[i] == digits[i - N // 2])"
   ]
  },
  {
   "cell_type": "markdown",
   "metadata": {},
   "source": [
    "# [Day 2](https://adventofcode.com/2017/day/2): Corruption Checksum\n"
   ]
  },
  {
   "cell_type": "code",
   "execution_count": 6,
   "metadata": {
    "collapsed": true
   },
   "outputs": [],
   "source": [
    "rows2 = Array('''790\t99\t345\t1080\t32\t143\t1085\t984\t553\t98\t123\t97\t197\t886\t125\t947\n",
    "302\t463\t59\t58\t55\t87\t508\t54\t472\t63\t469\t419\t424\t331\t337\t72\n",
    "899\t962\t77\t1127\t62\t530\t78\t880\t129\t1014\t93\t148\t239\t288\t357\t424\n",
    "2417\t2755\t254\t3886\t5336\t3655\t5798\t3273\t5016\t178\t270\t6511\t223\t5391\t1342\t2377\n",
    "68\t3002\t3307\t166\t275\t1989\t1611\t364\t157\t144\t3771\t1267\t3188\t3149\t156\t3454\n",
    "1088\t1261\t21\t1063\t1173\t278\t1164\t207\t237\t1230\t1185\t431\t232\t660\t195\t1246\n",
    "49\t1100\t136\t1491\t647\t1486\t112\t1278\t53\t1564\t1147\t1068\t809\t1638\t138\t117\n",
    "158\t3216\t1972\t2646\t3181\t785\t2937\t365\t611\t1977\t1199\t2972\t201\t2432\t186\t160\n",
    "244\t86\t61\t38\t58\t71\t243\t52\t245\t264\t209\t265\t308\t80\t126\t129\n",
    "1317\t792\t74\t111\t1721\t252\t1082\t1881\t1349\t94\t891\t1458\t331\t1691\t89\t1724\n",
    "3798\t202\t3140\t3468\t1486\t2073\t3872\t3190\t3481\t3760\t2876\t182\t2772\t226\t3753\t188\n",
    "2272\t6876\t6759\t218\t272\t4095\t4712\t6244\t4889\t2037\t234\t223\t6858\t3499\t2358\t439\n",
    "792\t230\t886\t824\t762\t895\t99\t799\t94\t110\t747\t635\t91\t406\t89\t157\n",
    "2074\t237\t1668\t1961\t170\t2292\t2079\t1371\t1909\t221\t2039\t1022\t193\t2195\t1395\t2123\n",
    "8447\t203\t1806\t6777\t278\t2850\t1232\t6369\t398\t235\t212\t992\t7520\t7304\t7852\t520\n",
    "3928\t107\t3406\t123\t2111\t2749\t223\t125\t134\t146\t3875\t1357\t508\t1534\t4002\t4417''')"
   ]
  },
  {
   "cell_type": "code",
   "execution_count": 7,
   "metadata": {},
   "outputs": [
    {
     "data": {
      "text/plain": [
       "46402"
      ]
     },
     "execution_count": 7,
     "metadata": {},
     "output_type": "execute_result"
    }
   ],
   "source": [
    "sum(abs(max(row) - min(row)) for row in rows2)"
   ]
  },
  {
   "cell_type": "markdown",
   "metadata": {},
   "source": [
    "**Part Two**:"
   ]
  },
  {
   "cell_type": "code",
   "execution_count": 8,
   "metadata": {},
   "outputs": [
    {
     "data": {
      "text/plain": [
       "265"
      ]
     },
     "execution_count": 8,
     "metadata": {},
     "output_type": "execute_result"
    }
   ],
   "source": [
    "def evendiv(row): \n",
    "    return first(a // b for a in row for b in row if a > b and a // b == a / b)\n",
    "\n",
    "sum(map(evendiv, rows2))"
   ]
  },
  {
   "cell_type": "markdown",
   "metadata": {},
   "source": [
    "This day was also very easy. It was nice that my pre-defined `array` function did the whole job of parsing the input. In Part One, I was slowed down by a typo: I had `\"=\"` instead of `\"-\"` in `\"max(row) - min(row)\"`. I was confused by Python's misleading error message, which said `\"SyntaxError: keyword can't be an expression\"`. Later on, Alex Martelli explained to me that the message meant that in `abs(max(row)=...)` it thought that `max(row)` was a keyword argument to `abs`, as in `abs(x=-1)`.\n",
    "\n",
    "In Part Two, note that to check that `a/b` is an exact integer, I used `a // b == a / b`, which I think is more clear  than the marginally-faster expression one would typically use here, `a % b == 0`, which requires you to think about two things: division and the modulus operator (is it `a % b` or `b % a`?)."
   ]
  },
  {
   "cell_type": "markdown",
   "metadata": {},
   "source": [
    "# [Day 3](https://adventofcode.com/2017/day/3): Spiral Memory\n",
    "\n",
    "For today the data is just one number:"
   ]
  },
  {
   "cell_type": "code",
   "execution_count": 9,
   "metadata": {
    "collapsed": true
   },
   "outputs": [],
   "source": [
    "M = 277678"
   ]
  },
  {
   "cell_type": "markdown",
   "metadata": {},
   "source": [
    "This puzzle takes some thinking, not just fast typing. I decided to break the problem into three parts:\n",
    "- Generate a spiral (by writing a new function called `spiral`).\n",
    "- Find the Nth square on the spiral (with my function `nth`).\n",
    "- Find the distance from that square to the center (with my function `cityblock_distance`).\n",
    "\n",
    "I suspect many people will do all three of these in one function. That's probably the best way to get the answer really quickly, but I'd rather be clear than quick (and I'm anticipating that `spiral` will come in handy in Part Two), so I'll factor out each part, obeying the *single responsibility principle*. \n",
    "\n",
    "Now I need to make `spiral()` generate the coordinates of squares on an infinite spiral, in order, going out from the center square, `(0, 0)`. After the center square, the spiral goes 1 square right, then 1 square up, then 2 square left, then 2 square down, thus completing one revolution; then it does subsequent revolutions. In general if the previous revolution ended with *s* squares down, then the next revolution consists of *s*+1 squares right, *s*+1 squares up, *s*+2 squares left and *s*+2 down.  A small test confirms that this matches the example diagram in the puzzle description (although I had a bug on my first try because I only incremented `s` once per revolution, not twice):"
   ]
  },
  {
   "cell_type": "code",
   "execution_count": 10,
   "metadata": {},
   "outputs": [
    {
     "data": {
      "text/plain": [
       "[(0, 0),\n",
       " (0, 1),\n",
       " (-1, 1),\n",
       " (-1, 0),\n",
       " (-1, -1),\n",
       " (0, -1),\n",
       " (1, -1),\n",
       " (1, 0),\n",
       " (1, 1),\n",
       " (1, 2)]"
      ]
     },
     "execution_count": 10,
     "metadata": {},
     "output_type": "execute_result"
    }
   ],
   "source": [
    "def spiral():\n",
    "    \"Yield successive (x, y) coordinates of squares on a spiral.\"\n",
    "    x = y = s = 0   # (x, y) is the position; s is the side length.\n",
    "    yield (x, y)\n",
    "    while True:\n",
    "        for (dx, dy) in (RIGHT, UP, LEFT, DOWN):\n",
    "            if dy: s += 1 # Increment side length before RIGHT and LEFT\n",
    "            for _ in range(s):\n",
    "                x += dx; y += dy\n",
    "                yield (x, y)\n",
    "\n",
    "list(islice(spiral(), 10))"
   ]
  },
  {
   "cell_type": "markdown",
   "metadata": {},
   "source": [
    "Now we can find the `N`th square. As this is Python, indexes start at 0, whereas the puzzle description starts counting at 1, so I have to subtract 1. Then I can find the distance to the origin:"
   ]
  },
  {
   "cell_type": "code",
   "execution_count": 11,
   "metadata": {},
   "outputs": [
    {
     "data": {
      "text/plain": [
       "(263, 212)"
      ]
     },
     "execution_count": 11,
     "metadata": {},
     "output_type": "execute_result"
    }
   ],
   "source": [
    "nth(spiral(), M - 1)"
   ]
  },
  {
   "cell_type": "code",
   "execution_count": 12,
   "metadata": {},
   "outputs": [
    {
     "data": {
      "text/plain": [
       "475"
      ]
     },
     "execution_count": 12,
     "metadata": {},
     "output_type": "execute_result"
    }
   ],
   "source": [
    "cityblock_distance(_)"
   ]
  },
  {
   "cell_type": "markdown",
   "metadata": {},
   "source": [
    "For **Part Two** I can re-use my `spiral` generator, yay! Here's a function to sum the neighboring squares (I can use my `neighbors8` function, yay!):"
   ]
  },
  {
   "cell_type": "code",
   "execution_count": 13,
   "metadata": {
    "collapsed": true
   },
   "outputs": [],
   "source": [
    "def spiralsums():\n",
    "    \"Yield the values of a spiral where each square has the sum of the 8 neighbors.\"\n",
    "    value = defaultdict(int)\n",
    "    for p in spiral():\n",
    "        value[p] = sum(value[q] for q in neighbors8(p)) or 1\n",
    "        yield value[p]"
   ]
  },
  {
   "cell_type": "code",
   "execution_count": 14,
   "metadata": {},
   "outputs": [
    {
     "data": {
      "text/plain": [
       "[1, 1, 2, 4, 5, 10, 11, 23, 25, 26, 54, 57]"
      ]
     },
     "execution_count": 14,
     "metadata": {},
     "output_type": "execute_result"
    }
   ],
   "source": [
    "list(islice(spiralsums(), 12))"
   ]
  },
  {
   "cell_type": "markdown",
   "metadata": {},
   "source": [
    "Looks good, so let's get the answer:"
   ]
  },
  {
   "cell_type": "code",
   "execution_count": 15,
   "metadata": {},
   "outputs": [
    {
     "data": {
      "text/plain": [
       "279138"
      ]
     },
     "execution_count": 15,
     "metadata": {},
     "output_type": "execute_result"
    }
   ],
   "source": [
    "first(x for x in spiralsums() if x > M)"
   ]
  },
  {
   "cell_type": "markdown",
   "metadata": {},
   "source": [
    "# [Day 4](https://adventofcode.com/2017/day/4): High-Entropy Passphrases\n",
    "\n",
    "This is the first time I will have to store an input file and read it with the function `Input`. It should be straightforward, though:"
   ]
  },
  {
   "cell_type": "code",
   "execution_count": 16,
   "metadata": {},
   "outputs": [
    {
     "data": {
      "text/plain": [
       "337"
      ]
     },
     "execution_count": 16,
     "metadata": {},
     "output_type": "execute_result"
    }
   ],
   "source": [
    "def is_valid(line): return is_unique(line.split())\n",
    "\n",
    "def is_unique(items): return len(items) == len(set(items))\n",
    "\n",
    "quantify(Input(4), is_valid)"
   ]
  },
  {
   "cell_type": "markdown",
   "metadata": {},
   "source": [
    "**Part Two:**"
   ]
  },
  {
   "cell_type": "code",
   "execution_count": 17,
   "metadata": {},
   "outputs": [
    {
     "data": {
      "text/plain": [
       "231"
      ]
     },
     "execution_count": 17,
     "metadata": {},
     "output_type": "execute_result"
    }
   ],
   "source": [
    "def is_valid2(line): return is_unique(mapt(canon, line.split()))\n",
    "\n",
    "quantify(Input(4), is_valid2)"
   ]
  },
  {
   "cell_type": "markdown",
   "metadata": {},
   "source": [
    "That was easy, and I started on time, but the leaders were still three times faster than me!"
   ]
  },
  {
   "cell_type": "markdown",
   "metadata": {},
   "source": [
    "# [Day 5](https://adventofcode.com/2017/day/5): A Maze of Twisty Trampolines, All Alike\n",
    "\n",
    "Let's first make sure we can read the data/program okay:"
   ]
  },
  {
   "cell_type": "code",
   "execution_count": 18,
   "metadata": {},
   "outputs": [
    {
     "data": {
      "text/plain": [
       "(0, 2, 0, 0, -2, -2, -1, -4, -5, -6)"
      ]
     },
     "execution_count": 18,
     "metadata": {},
     "output_type": "execute_result"
    }
   ],
   "source": [
    "program = mapt(int, Input(5))\n",
    "\n",
    "program[:10]"
   ]
  },
  {
   "cell_type": "markdown",
   "metadata": {},
   "source": [
    "Now I'll make a little interpreter, `run`, which takes a program, loads it into memory,\n",
    " and executes the instruction, maintaining a program counter, `pc`, and doing the incrementing/branching as described in the puzzle,\n",
    "until the program counter no longer points to a location in memory:"
   ]
  },
  {
   "cell_type": "code",
   "execution_count": 19,
   "metadata": {},
   "outputs": [
    {
     "data": {
      "text/plain": [
       "364539"
      ]
     },
     "execution_count": 19,
     "metadata": {},
     "output_type": "execute_result"
    }
   ],
   "source": [
    "def run(program):\n",
    "    memory = list(program)\n",
    "    pc = steps = 0\n",
    "    M = len(memory)\n",
    "    while 0 <= pc < M:\n",
    "        steps += 1\n",
    "        oldpc = pc\n",
    "        pc += memory[pc]\n",
    "        memory[oldpc] += 1\n",
    "    return steps\n",
    "        \n",
    "run(program)"
   ]
  },
  {
   "cell_type": "markdown",
   "metadata": {},
   "source": [
    "**Part Two:**\n",
    "\n",
    "Part Two seems tricky, so I'll include an optional argument, `verbose`, and check if the printout it produces matches the example in the puzzle description:"
   ]
  },
  {
   "cell_type": "code",
   "execution_count": 20,
   "metadata": {},
   "outputs": [
    {
     "name": "stdout",
     "output_type": "stream",
     "text": [
      "1 0 [1, 3, 0, 1, -3]\n",
      "2 1 [2, 3, 0, 1, -3]\n",
      "3 4 [2, 2, 0, 1, -3]\n",
      "4 1 [2, 2, 0, 1, -2]\n",
      "5 3 [2, 3, 0, 1, -2]\n",
      "6 4 [2, 3, 0, 2, -2]\n",
      "7 2 [2, 3, 0, 2, -1]\n",
      "8 2 [2, 3, 1, 2, -1]\n",
      "9 3 [2, 3, 2, 2, -1]\n",
      "10 5 [2, 3, 2, 3, -1]\n"
     ]
    },
    {
     "data": {
      "text/plain": [
       "10"
      ]
     },
     "execution_count": 20,
     "metadata": {},
     "output_type": "execute_result"
    }
   ],
   "source": [
    "def run2(program, verbose=False):\n",
    "    memory = list(program)\n",
    "    pc = steps = 0\n",
    "    M = len(memory)\n",
    "    while 0 <= pc < M:\n",
    "        steps += 1\n",
    "        oldpc = pc\n",
    "        pc += memory[pc]\n",
    "        memory[oldpc] += (-1 if memory[oldpc] >= 3 else 1)\n",
    "        if verbose: print(steps, pc, memory)\n",
    "    return steps\n",
    "        \n",
    "run2([0, 3, 0, 1, -3], True)"
   ]
  },
  {
   "cell_type": "markdown",
   "metadata": {},
   "source": [
    "That looks right, so I can solve the puzzle:"
   ]
  },
  {
   "cell_type": "code",
   "execution_count": 21,
   "metadata": {},
   "outputs": [
    {
     "name": "stdout",
     "output_type": "stream",
     "text": [
      "CPU times: user 6.2 s, sys: 8.37 ms, total: 6.21 s\n",
      "Wall time: 6.21 s\n"
     ]
    },
    {
     "data": {
      "text/plain": [
       "27477714"
      ]
     },
     "execution_count": 21,
     "metadata": {},
     "output_type": "execute_result"
    }
   ],
   "source": [
    "%time run2(program)"
   ]
  },
  {
   "cell_type": "markdown",
   "metadata": {},
   "source": [
    "Thanks to [Clement Sreeves](https://github.com/ClementSreeves) for the suggestion of making a distinction between the `program` and the `memory`. In my first version, `run` would mutate the argument, which was OK for a short exercise, but not best practice for a reliable API. And thanks to [Max Albert](https://github.com/maxalbert) for speeding up the loop by pulling the `len(memory)` out of the loop."
   ]
  },
  {
   "cell_type": "markdown",
   "metadata": {},
   "source": [
    "# [Day 6](https://adventofcode.com/2017/day/6): Memory Reallocation "
   ]
  },
  {
   "cell_type": "markdown",
   "metadata": {},
   "source": [
    "I had to read the puzzle description carefully, but then it is pretty clear what to do. I'll keep a set of previously seen configurations, which will all be tuples. But in the function `spread`, I want to mutate the configuration of banks, so I will convert to a list at the start, then convert back to a tuple at the end."
   ]
  },
  {
   "cell_type": "code",
   "execution_count": 22,
   "metadata": {
    "collapsed": true
   },
   "outputs": [],
   "source": [
    "banks = Vector('4\t10\t4\t1\t8\t4\t9\t14\t5\t1\t14\t15\t0\t15\t3\t5')\n",
    "\n",
    "def realloc(banks):\n",
    "    \"How many cycles until we reach a configuration we've seen before?\"\n",
    "    seen = {banks}\n",
    "    for cycles in count_from(1):\n",
    "        banks = spread(banks)\n",
    "        if banks in seen:\n",
    "            return cycles\n",
    "        seen.add(banks)\n",
    "        \n",
    "def spread(banks):\n",
    "    \"Find the area with the most blocks, and spread them evenly to following areas.\"\n",
    "    banks  = list(banks)\n",
    "    maxi   = max(range(len(banks)), key=lambda i: banks[i])\n",
    "    blocks = banks[maxi]\n",
    "    banks[maxi] = 0\n",
    "    for i in range(maxi + 1, maxi + 1 + blocks):\n",
    "        banks[i % len(banks)] += 1\n",
    "    return tuple(banks)"
   ]
  },
  {
   "cell_type": "code",
   "execution_count": 23,
   "metadata": {},
   "outputs": [
    {
     "data": {
      "text/plain": [
       "(2, 4, 1, 2)"
      ]
     },
     "execution_count": 23,
     "metadata": {},
     "output_type": "execute_result"
    }
   ],
   "source": [
    "spread((0, 2, 7, 0))"
   ]
  },
  {
   "cell_type": "code",
   "execution_count": 24,
   "metadata": {},
   "outputs": [
    {
     "data": {
      "text/plain": [
       "5"
      ]
     },
     "execution_count": 24,
     "metadata": {},
     "output_type": "execute_result"
    }
   ],
   "source": [
    "realloc((0, 2, 7, 0))"
   ]
  },
  {
   "cell_type": "markdown",
   "metadata": {},
   "source": [
    "These tests look good; let's solve the problem:"
   ]
  },
  {
   "cell_type": "code",
   "execution_count": 25,
   "metadata": {},
   "outputs": [
    {
     "data": {
      "text/plain": [
       "12841"
      ]
     },
     "execution_count": 25,
     "metadata": {},
     "output_type": "execute_result"
    }
   ],
   "source": [
    "realloc(banks)"
   ]
  },
  {
   "cell_type": "markdown",
   "metadata": {},
   "source": [
    "**Part Two:** Here I will just replace the `set` of `seen` banks with a `dict` of `{bank: cycle_number}`; everything else is the same, and the final result is the current cycle number minus the cycle number of the previously-seen tuple of banks."
   ]
  },
  {
   "cell_type": "code",
   "execution_count": 26,
   "metadata": {},
   "outputs": [
    {
     "data": {
      "text/plain": [
       "4"
      ]
     },
     "execution_count": 26,
     "metadata": {},
     "output_type": "execute_result"
    }
   ],
   "source": [
    "def realloc2(banks):\n",
    "    \"When we hit a cycle, what is the length of the cycle?\"\n",
    "    seen = {banks: 0}\n",
    "    for cycles in count_from(1):\n",
    "        banks = spread(banks)\n",
    "        if banks in seen:\n",
    "            return cycles - seen[banks]\n",
    "        seen[banks] = cycles\n",
    "\n",
    "realloc2((0, 2, 7, 0))"
   ]
  },
  {
   "cell_type": "code",
   "execution_count": 27,
   "metadata": {},
   "outputs": [
    {
     "data": {
      "text/plain": [
       "8038"
      ]
     },
     "execution_count": 27,
     "metadata": {},
     "output_type": "execute_result"
    }
   ],
   "source": [
    "realloc2(banks)"
   ]
  },
  {
   "cell_type": "markdown",
   "metadata": {},
   "source": [
    "# [Day 7](https://adventofcode.com/2017/day/7): Recursive Circus"
   ]
  },
  {
   "cell_type": "markdown",
   "metadata": {},
   "source": [
    "First I'll read the data into two dicts as follows: the input line:\n",
    "\n",
    "     tcmdaji (40) -> wjbdxln, amtqhf\n",
    "     \n",
    "creates:\n",
    "\n",
    "     weight['tcmdaji'] = 40\n",
    "     above['tcmdaji'] = ['wjbdxln', 'amtqhf']"
   ]
  },
  {
   "cell_type": "code",
   "execution_count": 28,
   "metadata": {
    "collapsed": true
   },
   "outputs": [],
   "source": [
    "def towers(lines):\n",
    "    \"Return (weight, above) dicts.\"\n",
    "    weight = {}\n",
    "    above = {}\n",
    "    for line in lines:\n",
    "        name, w, *rest = re.findall(r'\\w+', line)\n",
    "        weight[name] = int(w)\n",
    "        above[name] = set(rest)\n",
    "    return weight, above\n",
    "\n",
    "weight, above = towers(Input(7))\n",
    "\n",
    "programs = set(above)"
   ]
  },
  {
   "cell_type": "markdown",
   "metadata": {},
   "source": [
    "Now the root progam is the one that is not above anything:"
   ]
  },
  {
   "cell_type": "code",
   "execution_count": 29,
   "metadata": {},
   "outputs": [
    {
     "data": {
      "text/plain": [
       "{'wiapj'}"
      ]
     },
     "execution_count": 29,
     "metadata": {},
     "output_type": "execute_result"
    }
   ],
   "source": [
    "programs - set(flatten(above.values()))"
   ]
  },
  {
   "cell_type": "markdown",
   "metadata": {},
   "source": [
    "**Part Two:**\n",
    "\n",
    "A program is *wrong* if it is the bottom of a tower that is a different weight from all its sibling towers:"
   ]
  },
  {
   "cell_type": "code",
   "execution_count": 30,
   "metadata": {
    "collapsed": true
   },
   "outputs": [],
   "source": [
    "def wrong(p): return tower_weight(p) not in map(tower_weight, siblings(p))"
   ]
  },
  {
   "cell_type": "markdown",
   "metadata": {},
   "source": [
    "Here we define `tower_weight`, `siblings`, and the `below` dict:"
   ]
  },
  {
   "cell_type": "code",
   "execution_count": 31,
   "metadata": {
    "collapsed": true
   },
   "outputs": [],
   "source": [
    "def tower_weight(p): \n",
    "    \"Total weight for the tower whose root (bottom) is p.\"\n",
    "    return weight[p] + sum(map(tower_weight, above[p]))\n",
    "\n",
    "def siblings(p): \n",
    "    \"The other programs at the same level as this one.\"\n",
    "    if p not in below:\n",
    "        return Ø # the root has no siblings\n",
    "    else:\n",
    "        return above[below[p]] - {p}\n",
    "\n",
    "below = {a: b for b in programs for a in above[b]}"
   ]
  },
  {
   "cell_type": "code",
   "execution_count": 32,
   "metadata": {},
   "outputs": [
    {
     "data": {
      "text/plain": [
       "{'eionkb', 'lsire', 'wiapj', 'ycpcv'}"
      ]
     },
     "execution_count": 32,
     "metadata": {},
     "output_type": "execute_result"
    }
   ],
   "source": [
    "set(filter(wrong, programs))"
   ]
  },
  {
   "cell_type": "markdown",
   "metadata": {},
   "source": [
    "So these four programs are wrong. Which one should we correct? The one that is wrong, and has no wrong program above it:"
   ]
  },
  {
   "cell_type": "code",
   "execution_count": 33,
   "metadata": {},
   "outputs": [
    {
     "data": {
      "text/plain": [
       "'eionkb'"
      ]
     },
     "execution_count": 33,
     "metadata": {},
     "output_type": "execute_result"
    }
   ],
   "source": [
    "def wrongest(programs):\n",
    "    return first(p for p in programs\n",
    "                 if wrong(p) \n",
    "                 and not any(wrong(p2) for p2 in above[p]))\n",
    "\n",
    "wrongest(programs)                              "
   ]
  },
  {
   "cell_type": "markdown",
   "metadata": {},
   "source": [
    "Now what should we correct it to? To the weight that makes it the same weight as the sibling towers:"
   ]
  },
  {
   "cell_type": "code",
   "execution_count": 34,
   "metadata": {},
   "outputs": [
    {
     "data": {
      "text/plain": [
       "1072"
      ]
     },
     "execution_count": 34,
     "metadata": {},
     "output_type": "execute_result"
    }
   ],
   "source": [
    "def correct(p):\n",
    "    \"Return the weight that would make p's tower's weight the same as its sibling towers.\"\n",
    "    delta = tower_weight(first(siblings(p))) - tower_weight(p) \n",
    "    return weight[p] + delta\n",
    "\n",
    "correct(wrongest(programs))"
   ]
  },
  {
   "cell_type": "markdown",
   "metadata": {},
   "source": [
    "# [Day 8](https://adventofcode.com/2017/day/8): Memory Reallocation \n",
    "\n",
    "This one looks easy: a simple interpreter for straight-line code where each instruction has 7 tokens. It is nice that my `Array` function parses the whole program."
   ]
  },
  {
   "cell_type": "code",
   "execution_count": 35,
   "metadata": {},
   "outputs": [
    {
     "data": {
      "text/plain": [
       "6828"
      ]
     },
     "execution_count": 35,
     "metadata": {},
     "output_type": "execute_result"
    }
   ],
   "source": [
    "program8 = Array(Input(8))\n",
    "\n",
    "def run8(program):\n",
    "    \"Run the program and return final value of registers.\"\n",
    "    registers = defaultdict(int)\n",
    "    for (r, inc, delta, _if, r2, cmp, amount) in program:\n",
    "        if operations[cmp](registers[r2], amount):\n",
    "            registers[r] += delta * (+1 if inc == 'inc' else -1)\n",
    "    return registers\n",
    "\n",
    "max(run8(program8).values())"
   ]
  },
  {
   "cell_type": "markdown",
   "metadata": {},
   "source": [
    "**Part Two:**\n",
    "\n",
    "Here I modify the interpreter to keep track of the highest value of any register at any time."
   ]
  },
  {
   "cell_type": "code",
   "execution_count": 36,
   "metadata": {},
   "outputs": [
    {
     "data": {
      "text/plain": [
       "7234"
      ]
     },
     "execution_count": 36,
     "metadata": {},
     "output_type": "execute_result"
    }
   ],
   "source": [
    "def run8_2(program):\n",
    "    registers = defaultdict(int)\n",
    "    highest = 0\n",
    "    for (r, inc, delta, _if, r2, cmp, amount) in program:\n",
    "        if operations[cmp](registers[r2], amount):\n",
    "            registers[r] += delta * (+1 if inc == 'inc' else -1)\n",
    "            highest = max(highest, registers[r])\n",
    "    return highest\n",
    "\n",
    "run8_2(program8)"
   ]
  },
  {
   "cell_type": "markdown",
   "metadata": {},
   "source": [
    "# [Day 9](https://adventofcode.com/2017/day/9): Stream Processing\n",
    "\n",
    "For this problem I could have a single finite-state machine that handles all five magic characters, `'{<!>}'`, but I think it is easier to first clean up the garbage, using regular expressions:"
   ]
  },
  {
   "cell_type": "code",
   "execution_count": 37,
   "metadata": {},
   "outputs": [
    {
     "data": {
      "text/plain": [
       "'{{{{{{{},},{{},}},{{{{}},{{{{{}}},{}},},{{{{},{,{{{}}}}},},{{{}},{{}}}'"
      ]
     },
     "execution_count": 37,
     "metadata": {},
     "output_type": "execute_result"
    }
   ],
   "source": [
    "text1 = re.sub(r'!.', '', Inputstr(9))  # Delete canceled characters\n",
    "text2 = re.sub(r'<.*?>', '', text1)     # Delete garbage\n",
    "\n",
    "text2[:70]"
   ]
  },
  {
   "cell_type": "markdown",
   "metadata": {},
   "source": [
    "Now I can deal with the nested braces (which can't be handled with regular expressions). The puzzle says \"*Each group is assigned a score which is one more than the score of the group that immediately contains it,*\" which is the same as saying that a group's score is its nesting level, a quantity that increases with each open-brace character, and decreases with each close-brace:"
   ]
  },
  {
   "cell_type": "code",
   "execution_count": 38,
   "metadata": {},
   "outputs": [
    {
     "data": {
      "text/plain": [
       "9662"
      ]
     },
     "execution_count": 38,
     "metadata": {},
     "output_type": "execute_result"
    }
   ],
   "source": [
    "def total_score(text):\n",
    "    \"Total of group scores; each group scores one more than the group it is nested in.\"\n",
    "    total = 0\n",
    "    level = 0 # Level of nesting\n",
    "    for c in text:\n",
    "        if c == '{':\n",
    "            level += 1\n",
    "            total += level\n",
    "        elif c == '}':\n",
    "            level -= 1\n",
    "    return total\n",
    "\n",
    "total_score(text2)"
   ]
  },
  {
   "cell_type": "markdown",
   "metadata": {},
   "source": [
    "**Part Two:**\n",
    "\n",
    "At first I thought that the amount of garbage is just the difference in lengths of `text2` and `text3`:"
   ]
  },
  {
   "cell_type": "code",
   "execution_count": 39,
   "metadata": {},
   "outputs": [
    {
     "data": {
      "text/plain": [
       "5989"
      ]
     },
     "execution_count": 39,
     "metadata": {},
     "output_type": "execute_result"
    }
   ],
   "source": [
    "len(text1) - len(text2)"
   ]
  },
  {
   "cell_type": "markdown",
   "metadata": {},
   "source": [
    "But this turned out to be wrong; it counts the angle brackets themselves s being deleted, whereas the puzzle is actually asking how many character between the angle brackets are deleted. So that would be:"
   ]
  },
  {
   "cell_type": "code",
   "execution_count": 40,
   "metadata": {},
   "outputs": [
    {
     "data": {
      "text/plain": [
       "4903"
      ]
     },
     "execution_count": 40,
     "metadata": {},
     "output_type": "execute_result"
    }
   ],
   "source": [
    "text3 = re.sub(r'<.*?>', '<>', text1)  # Delete garbage inside brackets, but not brackets\n",
    "\n",
    "len(text1) - len(text3)"
   ]
  },
  {
   "cell_type": "markdown",
   "metadata": {},
   "source": [
    "# [Day 10](https://adventofcode.com/2017/day/10): Stream Processing"
   ]
  },
  {
   "cell_type": "markdown",
   "metadata": {},
   "source": [
    "I have to do a bunch of reversals of substrings of `stream`. It looks complicated so I will include a `verbose` argument to `knothash` and confirm it works on the example puzzle. I break out the reversal into a separate function, `rev`. The way I handle reversal interacting with wraparound is that I first move all the items before the reversal position to the end of the list, then I do the reversal, then I move them back."
   ]
  },
  {
   "cell_type": "code",
   "execution_count": 41,
   "metadata": {
    "collapsed": true
   },
   "outputs": [],
   "source": [
    "stream = (63,144,180,149,1,255,167,84,125,65,188,0,2,254,229,24)\n",
    "\n",
    "def knothash(lengths, N=256, verbose=False):\n",
    "    \"Do a reversal for each of the numbers in `lengths`.\"\n",
    "    nums = list(range(N))\n",
    "    pos = skip = 0\n",
    "    for L in lengths:\n",
    "        nums = rev(nums, pos, L)\n",
    "        if verbose: print(nums)\n",
    "        pos = (pos + L + skip) % N\n",
    "        skip += 1\n",
    "    return nums[0] * nums[1]\n",
    "        \n",
    "def rev(nums, pos, L):\n",
    "    \"Reverse nums[pos:pos+L], handling wrap-around.\"\n",
    "    # Move first pos elements to end, reverse first L, move pos elements back\n",
    "    nums = nums[pos:] + nums[:pos]\n",
    "    nums[:L] = reversed(nums[:L])\n",
    "    nums = nums[-pos:] + nums[:-pos]\n",
    "    return nums"
   ]
  },
  {
   "cell_type": "code",
   "execution_count": 42,
   "metadata": {
    "collapsed": true
   },
   "outputs": [],
   "source": [
    "# Reverse [0, 1, 2]:\n",
    "assert rev(list(range(5)), 0, 3) == [2, 1, 0, 3, 4]"
   ]
  },
  {
   "cell_type": "code",
   "execution_count": 43,
   "metadata": {
    "collapsed": true
   },
   "outputs": [],
   "source": [
    "# Reverse [4, 0, 1], wrapping around:\n",
    "assert rev(list(range(5)), 4, 3) == [0, 4, 2, 3, 1]"
   ]
  },
  {
   "cell_type": "code",
   "execution_count": 44,
   "metadata": {},
   "outputs": [
    {
     "name": "stdout",
     "output_type": "stream",
     "text": [
      "[2, 1, 0, 3, 4]\n",
      "[4, 3, 0, 1, 2]\n",
      "[4, 3, 0, 1, 2]\n",
      "[3, 4, 2, 1, 0]\n"
     ]
    }
   ],
   "source": [
    "# Duplicate the example output\n",
    "assert knothash((3, 4, 1, 5), N=5, verbose=True) == 12"
   ]
  },
  {
   "cell_type": "markdown",
   "metadata": {},
   "source": [
    "That's correct, but the first time through I got it wrong because I forgot the `\"% N\"` on the update of `pos`."
   ]
  },
  {
   "cell_type": "code",
   "execution_count": 45,
   "metadata": {},
   "outputs": [
    {
     "data": {
      "text/plain": [
       "4480"
      ]
     },
     "execution_count": 45,
     "metadata": {},
     "output_type": "execute_result"
    }
   ],
   "source": [
    "knothash(stream)"
   ]
  },
  {
   "cell_type": "markdown",
   "metadata": {},
   "source": [
    "**Part Two**:\n",
    "\n",
    "Now it gets *really* complicated: string processing, the suffix, hex string output, and dense hashing. But just take them one at a time:"
   ]
  },
  {
   "cell_type": "code",
   "execution_count": 46,
   "metadata": {},
   "outputs": [
    {
     "data": {
      "text/plain": [
       "'c500ffe015c83b60fad2e4b7d59dabc4'"
      ]
     },
     "execution_count": 46,
     "metadata": {},
     "output_type": "execute_result"
    }
   ],
   "source": [
    "stream2 = '63,144,180,149,1,255,167,84,125,65,188,0,2,254,229,24'\n",
    "\n",
    "def knothash2(lengthstr, N=256, rounds=64, suffix=(17, 31, 73, 47, 23),\n",
    "              verbose=False):\n",
    "    \"Do a reversal for each length; repeat `rounds` times.\"\n",
    "    nums = list(range(N))\n",
    "    lengths = mapt(ord, lengthstr) + suffix\n",
    "    pos = skip = 0\n",
    "    for round in range(rounds):\n",
    "        for L in lengths:\n",
    "            nums = rev(nums, pos, L)\n",
    "            if verbose: print(nums)\n",
    "            pos = (pos + L + skip) % N\n",
    "            skip += 1\n",
    "    return hexstr(dense_hash(nums))\n",
    "\n",
    "def hexstr(nums): \n",
    "    \"Convert a sequence of (0 to 255) ints into a hex str.\"\n",
    "    return cat(map('{:02x}'.format, nums))\n",
    "    \n",
    "def dense_hash(nums, blocksize=16): \n",
    "    \"XOR each block of nums, return the list of them.\"\n",
    "    return [XOR(block) for block in grouper(nums, blocksize)]\n",
    "\n",
    "def XOR(nums):\n",
    "    \"Exclusive-or all the numbers together.\"\n",
    "    result = 0\n",
    "    for n in nums:\n",
    "        result ^= n\n",
    "    return result\n",
    "    \n",
    "assert XOR([65, 27, 9, 1, 4, 3, 40, 50, 91, 7, 6, 0, 2, 5, 68, 22]) == 64\n",
    "assert hexstr([255, 0, 17]) == 'ff0011'\n",
    "\n",
    "assert knothash2('') == 'a2582a3a0e66e6e86e3812dcb672a272'\n",
    "\n",
    "knothash2(stream2)"
   ]
  },
  {
   "cell_type": "markdown",
   "metadata": {},
   "source": [
    "I had a bug: originally I used `'{:x}'` as the format instead of `'{:02x}'`; the later correctly formats `0` as `'00'`, not `'0'`."
   ]
  },
  {
   "cell_type": "markdown",
   "metadata": {},
   "source": [
    "# [Day 11](https://adventofcode.com/2017/day/11): Hex Ed\n",
    "\n",
    "The first thing I did was search [`[hex coordinates]`](https://www.google.com/search?source=hp&ei=Ft4xWoOqKcy4jAOs76a4CQ&q=hex+coordinates), and the #1 result (as I expected) was Amit Patel's \"[Hexagonal Grids](https://www.redblobgames.com/grids/hexagons/)\" page. I chose his \"odd-q vertical layout\" to define the six directions as (dx, dy) deltas:"
   ]
  },
  {
   "cell_type": "code",
   "execution_count": 47,
   "metadata": {
    "collapsed": true
   },
   "outputs": [],
   "source": [
    "directions6 = dict(n=(0, -1), ne=(1, 0), se=(1, 1), s=(0, 1), sw=(-1, 0), nw=(-1, -1))"
   ]
  },
  {
   "cell_type": "markdown",
   "metadata": {},
   "source": [
    "Now I can read the path, follow it, and see where it ends up. If the end point is `(x, y)`, then it will take `max(abs(x), abs(y))` steps to get back to the origin, because each step can increment or decrement either `x` or `y` or both."
   ]
  },
  {
   "cell_type": "code",
   "execution_count": 48,
   "metadata": {},
   "outputs": [
    {
     "data": {
      "text/plain": [
       "705"
      ]
     },
     "execution_count": 48,
     "metadata": {},
     "output_type": "execute_result"
    }
   ],
   "source": [
    "path = Vector(Inputstr(11))\n",
    "\n",
    "def follow(path):\n",
    "    \"Follow each step of the path; return final distance to origin.\"\n",
    "    x, y = (0, 0)\n",
    "    for (dx, dy) in map(directions6.get, path):\n",
    "        x += dx; y += dy\n",
    "    return max(abs(x), abs(y))\n",
    "\n",
    "follow(path)"
   ]
  },
  {
   "cell_type": "markdown",
   "metadata": {},
   "source": [
    "This one seemed so easy that I didn't bother testing it on the simple examples in the puzzle; all I did was confirm that the answer for my puzzle input was correct.\n",
    "\n",
    "**Part Two:**\n",
    "\n",
    "This looks pretty easy; repeat Part One, but keep track of the maximum number of steps we get from the origin at any point in the path:"
   ]
  },
  {
   "cell_type": "code",
   "execution_count": 49,
   "metadata": {},
   "outputs": [
    {
     "data": {
      "text/plain": [
       "1469"
      ]
     },
     "execution_count": 49,
     "metadata": {},
     "output_type": "execute_result"
    }
   ],
   "source": [
    "def follow2(path):\n",
    "    \"Follow each step of the path; return max steps to origin.\"\n",
    "    x = y = maxsteps = 0\n",
    "    for (dx, dy) in map(directions6.get, path):\n",
    "        x += dx; y += dy\n",
    "        maxsteps = max(maxsteps, abs(x), abs(y))\n",
    "    return maxsteps\n",
    "\n",
    "follow2(path)"
   ]
  },
  {
   "cell_type": "markdown",
   "metadata": {},
   "source": [
    "Again, no tests, just the final answer.\n",
    "\n",
    "# [Day 12](https://adventofcode.com/2017/day/12): Digital Plumber\n",
    "\n",
    "First I'll parse the data, creating a dict of `{program: direct_group_of_programs}`:"
   ]
  },
  {
   "cell_type": "code",
   "execution_count": 50,
   "metadata": {
    "collapsed": true
   },
   "outputs": [],
   "source": [
    "def groups(lines):\n",
    "    \"Dict of {i: {directly_connected_to_i}\"\n",
    "    return {lhs: {lhs} | set(rhs)\n",
    "            for (lhs, _, *rhs) in Array(lines)}\n",
    "    \n",
    "assert groups(Input(12))[0] == {0, 659, 737}"
   ]
  },
  {
   "cell_type": "markdown",
   "metadata": {},
   "source": [
    "That looks good. I recognize this as a [Union-Find](https://en.wikipedia.org/wiki/Disjoint-set_data_structure) problem, for which there are efficient algorithms. But for this small example, I don't need efficiency, I need clarity and simplicity. So I'll write `merge` to take a dict and merge together the sets that are connected:"
   ]
  },
  {
   "cell_type": "code",
   "execution_count": 51,
   "metadata": {
    "collapsed": true
   },
   "outputs": [],
   "source": [
    "def merge(G):\n",
    "    \"Merge all indirectly connected groups together.\"\n",
    "    for i in G:\n",
    "        for j in list(G[i]):\n",
    "            if G[i] != G[j]:\n",
    "                G[i].update(G[j])\n",
    "                G[j] = G[i]\n",
    "    return G\n",
    "\n",
    "G = merge(groups(Input(12)))"
   ]
  },
  {
   "cell_type": "code",
   "execution_count": 52,
   "metadata": {},
   "outputs": [
    {
     "data": {
      "text/plain": [
       "115"
      ]
     },
     "execution_count": 52,
     "metadata": {},
     "output_type": "execute_result"
    }
   ],
   "source": [
    "len(G[0])"
   ]
  },
  {
   "cell_type": "markdown",
   "metadata": {},
   "source": [
    "That's the answer for Part One.\n",
    "\n",
    "**Part Two**\n",
    "\n",
    "I did almost all the work; I just need to count the number of distinct groups. That's a set of sets, and regular `set`s are not hashable, so I use my `Set` class:"
   ]
  },
  {
   "cell_type": "code",
   "execution_count": 53,
   "metadata": {},
   "outputs": [
    {
     "data": {
      "text/plain": [
       "221"
      ]
     },
     "execution_count": 53,
     "metadata": {},
     "output_type": "execute_result"
    }
   ],
   "source": [
    "len({Set(G[i]) for i in G})"
   ]
  },
  {
   "cell_type": "markdown",
   "metadata": {},
   "source": [
    "# [Day 13](https://adventofcode.com/2017/day/13): Packet Scanners\n",
    "\n",
    "First thing: The puzzle says the data is *depth: range*, but `range` has a meaning in Python, so I'll use the term *width* instead.\n",
    "\n",
    "Second thing: I misread the puzzle description and mistakenly thought the scanners were going in a circular route,\n",
    "so that they'd be at the top at any time that is 0 mod *width*. That gave the wrong answer and I realized the scanners are actually going back-and-forth, so with a width of size *n*, it takes *n* - 1 steps to get to the bottom, and *n* - 1 steps to get back to the top, so the scanner will be \n",
    "at the top at times that are multiples of 2(*n* - 1). For example, with width 3, that would be times 0, 4, 8, ... "
   ]
  },
  {
   "cell_type": "code",
   "execution_count": 54,
   "metadata": {
    "collapsed": true
   },
   "outputs": [],
   "source": [
    "def trip_severity(scanners): \n",
    "    \"The sum of sevrities for each time the packet is caught.\"\n",
    "    return sum((d * w if caught(d, w) else 0) \n",
    "               for (d, w) in scanners)\n",
    "\n",
    "def caught(depth, width):\n",
    "    \"Does the scanner at this depth/width catch the packet?\"\n",
    "    return depth % (2 * (width - 1)) == 0\n",
    "\n",
    "example = ((0, 3), (1, 2), (4, 4), (6, 4))\n",
    "assert trip_severity(example) == 24"
   ]
  },
  {
   "cell_type": "code",
   "execution_count": 55,
   "metadata": {},
   "outputs": [
    {
     "data": {
      "text/plain": [
       "((0, 3), (1, 2), (2, 4), (4, 6), (6, 4))"
      ]
     },
     "execution_count": 55,
     "metadata": {},
     "output_type": "execute_result"
    }
   ],
   "source": [
    "scanners = mapt(Integers, Input(13))\n",
    "scanners[:5]"
   ]
  },
  {
   "cell_type": "code",
   "execution_count": 56,
   "metadata": {},
   "outputs": [
    {
     "data": {
      "text/plain": [
       "1504"
      ]
     },
     "execution_count": 56,
     "metadata": {},
     "output_type": "execute_result"
    }
   ],
   "source": [
    "trip_severity(scanners)"
   ]
  },
  {
   "cell_type": "markdown",
   "metadata": {},
   "source": [
    "**Part Two**\n",
    "\n",
    "A packet is safe if no scanner catches it. We now have the possibility of a delay, so I update `caught` to allow for an optional delay, and define `safe_delay`:  "
   ]
  },
  {
   "cell_type": "code",
   "execution_count": 57,
   "metadata": {},
   "outputs": [
    {
     "data": {
      "text/plain": [
       "10"
      ]
     },
     "execution_count": 57,
     "metadata": {},
     "output_type": "execute_result"
    }
   ],
   "source": [
    "def caught(depth, width, delay=0):\n",
    "    \"Does the scanner at this depth/width catch the packet with this delay?\"\n",
    "    return (depth + delay) % (2 * (width - 1)) == 0 \n",
    "\n",
    "def safe_delay(scanners):\n",
    "    \"Find the first delay such that no scanner catches the packet.\"\n",
    "    safe = lambda delay: not any(caught(d, w, delay) for (d, w) in scanners)\n",
    "    return first(filter(safe, count_from(0)))\n",
    "\n",
    "safe_delay(example)"
   ]
  },
  {
   "cell_type": "code",
   "execution_count": 58,
   "metadata": {},
   "outputs": [
    {
     "data": {
      "text/plain": [
       "3823370"
      ]
     },
     "execution_count": 58,
     "metadata": {},
     "output_type": "execute_result"
    }
   ],
   "source": [
    "safe_delay(scanners)"
   ]
  },
  {
   "cell_type": "markdown",
   "metadata": {},
   "source": [
    "# [Day 14](https://adventofcode.com/2017/day/14): Disk Defragmentation\n",
    "\n",
    "I found this puzzle description confusing: are they talking about what I call `knothash`, or is it `knothash2`? I decided for the latter, which turned out to be right:"
   ]
  },
  {
   "cell_type": "code",
   "execution_count": 59,
   "metadata": {
    "collapsed": true
   },
   "outputs": [],
   "source": [
    "key = 'ljoxqyyw'"
   ]
  },
  {
   "cell_type": "code",
   "execution_count": 60,
   "metadata": {},
   "outputs": [
    {
     "data": {
      "text/plain": [
       "8316"
      ]
     },
     "execution_count": 60,
     "metadata": {},
     "output_type": "execute_result"
    }
   ],
   "source": [
    "def bits(key, i):\n",
    "    \"The bits in the hash of this key with this row number.\"\n",
    "    hash = knothash2(key + '-' + str(i))\n",
    "    return format(int(hash, base=16), '0128b')\n",
    "\n",
    "sum(bits(key, i).count('1') for i in range(128))"
   ]
  },
  {
   "cell_type": "markdown",
   "metadata": {},
   "source": [
    "**Part Two**\n",
    "\n",
    "So as not to worry about running off the edge of the grid, I'll surround the grid with `'0'` bits:"
   ]
  },
  {
   "cell_type": "code",
   "execution_count": 61,
   "metadata": {
    "collapsed": true
   },
   "outputs": [],
   "source": [
    "def Grid(key, N=128+2):\n",
    "    \"Make a grid, with a border around it.\"\n",
    "    return border('0', (list(bits(key, i)) for i in range(128)))\n",
    "\n",
    "def border(fill, grid):\n",
    "    \"Surround a grid with a border of fill cells.\"\n",
    "    rows  = [[fill] + list(row) + [fill] \n",
    "             for row in grid]\n",
    "    empty =  [fill] * len(rows[0])\n",
    "    return [empty] + rows + [empty]"
   ]
  },
  {
   "cell_type": "markdown",
   "metadata": {},
   "source": [
    "To find a region, start at some `(x, y)` position and [flood fill](https://en.wikipedia.org/wiki/Flood_fill) to neighbors that have the same value (a `'1'` bit)."
   ]
  },
  {
   "cell_type": "code",
   "execution_count": 62,
   "metadata": {
    "collapsed": true
   },
   "outputs": [],
   "source": [
    "def flood(grid, x, y, val, R):\n",
    "    \"For all cells with value val connected to grid[x][y], give them region number R.\"\n",
    "    if grid[y][x] == val:\n",
    "        grid[y][x] = R\n",
    "        for x2, y2 in neighbors4((x, y)):\n",
    "            flood(grid, x2, y2, val, R)"
   ]
  },
  {
   "cell_type": "code",
   "execution_count": 63,
   "metadata": {
    "collapsed": true
   },
   "outputs": [],
   "source": [
    "def flood_all(grid, val='1'):\n",
    "    \"Label all regions with consecutive ints starting at 1.\"\n",
    "    R = 0 # R is the region number\n",
    "    for y in range(1, len(grid) - 1):\n",
    "        for x in range(1, len(grid) - 1):\n",
    "            if grid[y][x] == val:\n",
    "                R += 1\n",
    "                flood(grid, x, y, val, R)\n",
    "    return R "
   ]
  },
  {
   "cell_type": "code",
   "execution_count": 64,
   "metadata": {},
   "outputs": [
    {
     "data": {
      "text/plain": [
       "1074"
      ]
     },
     "execution_count": 64,
     "metadata": {},
     "output_type": "execute_result"
    }
   ],
   "source": [
    "flood_all(Grid(key))"
   ]
  },
  {
   "cell_type": "markdown",
   "metadata": {},
   "source": [
    "# [Day 15](https://adventofcode.com/2017/day/15): Dueling Generators\n",
    "\n",
    "My personalized inputs for this puzzle are `516` and `190`; the other numbers are shared by all puzzle-solvers. I decided to make infinite generators of numbers, using `gen`:"
   ]
  },
  {
   "cell_type": "code",
   "execution_count": 65,
   "metadata": {},
   "outputs": [
    {
     "name": "stdout",
     "output_type": "stream",
     "text": [
      "CPU times: user 15.1 s, sys: 26.4 ms, total: 15.1 s\n",
      "Wall time: 15.2 s\n"
     ]
    },
    {
     "data": {
      "text/plain": [
       "597"
      ]
     },
     "execution_count": 65,
     "metadata": {},
     "output_type": "execute_result"
    }
   ],
   "source": [
    "@jit # This was the slowest solution; @jit helps a bit.\n",
    "def gen(prev, factor, m=2147483647):\n",
    "    \"Generate a sequence of numbers according to the rules; stop at 0.\"\n",
    "    while prev:\n",
    "        prev = (prev * factor) % m\n",
    "        yield prev\n",
    "        \n",
    "def judge(A, B, N=40*10**6, mask=2**16-1): \n",
    "    \"How many of the first N numbers from A and B agree in the masked bits (default last 16)?\"\n",
    "    return quantify(a & mask == b & mask\n",
    "                    for (a, b, _) in zip(A, B, range(N)))\n",
    "\n",
    "def A(): return gen(516, 16807)\n",
    "def B(): return gen(190, 48271)\n",
    "\n",
    "%time judge(A(), B())"
   ]
  },
  {
   "cell_type": "markdown",
   "metadata": {},
   "source": [
    "Notice I also decided to use `@jit` (i.e. `numba.jit`) to speed things up, since this is the slowest-running day yet.\n",
    "\n",
    "**Part Two**\n",
    "\n",
    "A small change: only consider numbers that match the **criteria** of being divisible by 4 or 8, respectively;"
   ]
  },
  {
   "cell_type": "code",
   "execution_count": 66,
   "metadata": {},
   "outputs": [
    {
     "name": "stdout",
     "output_type": "stream",
     "text": [
      "CPU times: user 9.39 s, sys: 8.62 ms, total: 9.4 s\n",
      "Wall time: 9.4 s\n"
     ]
    },
    {
     "data": {
      "text/plain": [
       "303"
      ]
     },
     "execution_count": 66,
     "metadata": {},
     "output_type": "execute_result"
    }
   ],
   "source": [
    "def criteria(m, iterable): \n",
    "    \"Elements of iterable that are divisible by m\"\n",
    "    return (n for n in iterable if n % m == 0)\n",
    "        \n",
    "%time judge(criteria(4, A()), criteria(8, B()), 5*10**6)"
   ]
  },
  {
   "cell_type": "markdown",
   "metadata": {},
   "source": [
    "# [Day 16](https://adventofcode.com/2017/day/16): Permutation Promenade\n",
    "\n",
    "Let's read the input and check that it looks reasonable:"
   ]
  },
  {
   "cell_type": "code",
   "execution_count": 67,
   "metadata": {},
   "outputs": [
    {
     "data": {
      "text/plain": [
       "('x5/15',\n",
       " 's15',\n",
       " 'x1/3',\n",
       " 'pn/f',\n",
       " 'x11/2',\n",
       " 's13',\n",
       " 'x6/3',\n",
       " 'pe/a',\n",
       " 'x14/12',\n",
       " 's15')"
      ]
     },
     "execution_count": 67,
     "metadata": {},
     "output_type": "execute_result"
    }
   ],
   "source": [
    "dance = Vector(Inputstr(16))\n",
    "dance[:10]"
   ]
  },
  {
   "cell_type": "code",
   "execution_count": 68,
   "metadata": {},
   "outputs": [
    {
     "data": {
      "text/plain": [
       "10000"
      ]
     },
     "execution_count": 68,
     "metadata": {},
     "output_type": "execute_result"
    }
   ],
   "source": [
    "len(dance)"
   ]
  },
  {
   "cell_type": "markdown",
   "metadata": {},
   "source": [
    "I'll define `perform` to perform the dance:"
   ]
  },
  {
   "cell_type": "code",
   "execution_count": 69,
   "metadata": {},
   "outputs": [
    {
     "data": {
      "text/plain": [
       "'lbdiomkhgcjanefp'"
      ]
     },
     "execution_count": 69,
     "metadata": {},
     "output_type": "execute_result"
    }
   ],
   "source": [
    "dancers = 'abcdefghijklmnop'\n",
    "\n",
    "def perform(dance, dancers=dancers):\n",
    "    D = deque(dancers)\n",
    "    def swap(i, j): D[i], D[j] = D[j], D[i]\n",
    "    for move in dance:\n",
    "        op, arg = move[0], move[1:]\n",
    "        if   op == 's': D.rotate(int(arg))\n",
    "        elif op == 'x': swap(*Integers(arg))\n",
    "        elif op == 'p': swap(D.index(arg[0]), D.index(arg[2]))\n",
    "    return cat(D)\n",
    "            \n",
    "perform(dance)"
   ]
  },
  {
   "cell_type": "markdown",
   "metadata": {},
   "source": [
    "That's the right answer.\n",
    "\n",
    "**Part Two**\n",
    "\n",
    "My first thought was to define a dance as a permutation: a list of numbers `[11, 1, 9, ...]` which says that the net effect of the dance is that the first dancer (`a`) ends up in position, the second (`b`) stays in position 1, and so on. Applying that permutation once is a lot faster than interpreting all 10,000 moves of the dance, and it is feasible to apply the permutation a billion times. I tried that (code not shown here), but that was a mistake: it took 15 minutes to run, and it got the wrong answer. The problem is that a dance is *not* just a permutation, because a dance can reference dancer *names*, not just positions.\n",
    "\n",
    "It would take about 10,000 times 20 minutes to perform a billion repetitions of the dance, so that's out. But even though the dance is not a permutation, it might repeat after a short period. Let's check:"
   ]
  },
  {
   "cell_type": "code",
   "execution_count": 70,
   "metadata": {},
   "outputs": [
    {
     "name": "stdout",
     "output_type": "stream",
     "text": [
      "abcdefghijklmnop is seen in iterations (0, 56)\n"
     ]
    }
   ],
   "source": [
    "seen = {dancers: 0}\n",
    "d = dancers\n",
    "for i in range(1, 1000):\n",
    "    d = perform(dance, d)\n",
    "    if d in seen:\n",
    "        print(d, 'is seen in iterations', (seen[d], i))\n",
    "        break"
   ]
  },
  {
   "cell_type": "markdown",
   "metadata": {},
   "source": [
    "So we get back to the start position after 56 repetitions of the dance. What happens after a billion repetitions?"
   ]
  },
  {
   "cell_type": "code",
   "execution_count": 71,
   "metadata": {},
   "outputs": [
    {
     "data": {
      "text/plain": [
       "48"
      ]
     },
     "execution_count": 71,
     "metadata": {},
     "output_type": "execute_result"
    }
   ],
   "source": [
    "1000000000 % 56"
   ]
  },
  {
   "cell_type": "markdown",
   "metadata": {},
   "source": [
    "The end position after a billion repetitions is the same as after 48:"
   ]
  },
  {
   "cell_type": "code",
   "execution_count": 72,
   "metadata": {},
   "outputs": [
    {
     "data": {
      "text/plain": [
       "'ejkflpgnamhdcboi'"
      ]
     },
     "execution_count": 72,
     "metadata": {},
     "output_type": "execute_result"
    }
   ],
   "source": [
    "def whole(N, dance, dancers=dancers):\n",
    "    \"Repeat `perform(dance)` N times.\"\n",
    "    for i in range(N):\n",
    "        dancers = perform(dance, dancers)\n",
    "    return dancers\n",
    "    \n",
    "whole(48, dance)"
   ]
  },
  {
   "cell_type": "markdown",
   "metadata": {},
   "source": [
    "\n",
    "# [Day 17](https://adventofcode.com/2017/day/17): Spinlock\n",
    "\n",
    "This one looks pretty easy:"
   ]
  },
  {
   "cell_type": "code",
   "execution_count": 73,
   "metadata": {},
   "outputs": [
    {
     "data": {
      "text/plain": [
       "355"
      ]
     },
     "execution_count": 73,
     "metadata": {},
     "output_type": "execute_result"
    }
   ],
   "source": [
    "step = 314\n",
    "\n",
    "def spinlock(step=step, N=2017):\n",
    "    \"Make N inserts into the buffer, skipping ahead by `step` each time.\"\n",
    "    buf = [0]\n",
    "    pos = 0\n",
    "    for i in ints(1, N):\n",
    "        pos = (pos + step) % i + 1\n",
    "        buf[pos:pos] = [i]\n",
    "    return buf\n",
    "        \n",
    "buf = spinlock()\n",
    "\n",
    "buf[buf.index(2017)+1]"
   ]
  },
  {
   "cell_type": "markdown",
   "metadata": {},
   "source": [
    "That's the right answer.\n",
    "\n",
    "**Part Two**\n",
    "\n",
    "But Part Two is not so easy, if we care about the run time. Insertion into a `list` has to move all the elements after the insertion down, so insertion is O(N) and `spinlock` is O(N<sup>2</sup>). That's no problem when N = 2017, but when N is 50 million?  We're gonna need a bigger boat, where by \"boat\" I mean algorithm or data structure. My first thought is a (circular) linked list, because insertion is O(1). I can implement the three key methods: `skip` to move ahead, `insert` to add a new node after the current one, and `find` to find a piece of data (with a linear search):"
   ]
  },
  {
   "cell_type": "code",
   "execution_count": 74,
   "metadata": {
    "collapsed": true
   },
   "outputs": [],
   "source": [
    "class Node:\n",
    "    \"A Node in a singly-linked list\"\n",
    "    \n",
    "    __slots__ = ('data', 'next') # Declaring slots makes it more efficient\n",
    "    \n",
    "    def __init__(self, data, next): self.data, self.next = data, next\n",
    "                \n",
    "    def skip(self, n):\n",
    "        \"Skip ahead n nodes, and return that node.\"\n",
    "        node = self\n",
    "        for i in range(n):\n",
    "            node = node.next\n",
    "        return node\n",
    "        \n",
    "    def insert(self, value):\n",
    "        \"Insert a new node with the given value after this node.\"\n",
    "        self.next = Node(value, self.next)\n",
    "        return self.next\n",
    "    \n",
    "    def find(self, value):\n",
    "        \"Find the node with the given data value.\"\n",
    "        node = self\n",
    "        while node.data != value:\n",
    "            node = node.next\n",
    "        return node"
   ]
  },
  {
   "cell_type": "markdown",
   "metadata": {},
   "source": [
    "Now I can rewrite `spinlock` to use this class:"
   ]
  },
  {
   "cell_type": "code",
   "execution_count": 75,
   "metadata": {
    "collapsed": true
   },
   "outputs": [],
   "source": [
    "def spinlock2(step=step, N=2017):\n",
    "    node = Node(0, None)\n",
    "    node.next = node # Make node be a circular linked list\n",
    "    for i in ints(1, N):\n",
    "        node = node.skip(step).insert(i)\n",
    "    return node"
   ]
  },
  {
   "cell_type": "markdown",
   "metadata": {},
   "source": [
    "Let's replicate the Part One results:"
   ]
  },
  {
   "cell_type": "code",
   "execution_count": 76,
   "metadata": {},
   "outputs": [
    {
     "data": {
      "text/plain": [
       "355"
      ]
     },
     "execution_count": 76,
     "metadata": {},
     "output_type": "execute_result"
    }
   ],
   "source": [
    "spinlock2().find(2017).next.data"
   ]
  },
  {
   "cell_type": "markdown",
   "metadata": {},
   "source": [
    "Good news! We get the same answer. But how fast/slow is it?"
   ]
  },
  {
   "cell_type": "code",
   "execution_count": 77,
   "metadata": {},
   "outputs": [
    {
     "name": "stdout",
     "output_type": "stream",
     "text": [
      "CPU times: user 1.35 s, sys: 5.54 ms, total: 1.35 s\n",
      "Wall time: 1.35 s\n"
     ]
    },
    {
     "data": {
      "text/plain": [
       "<__main__.Node at 0x110c44be0>"
      ]
     },
     "execution_count": 77,
     "metadata": {},
     "output_type": "execute_result"
    }
   ],
   "source": [
    "%time spinlock2(N=100000)"
   ]
  },
  {
   "cell_type": "markdown",
   "metadata": {},
   "source": [
    "Bad news! It takes over a second to do just 100,000 insertions, which means about 10 minutes for 50 million insertions. I did in fact try\n",
    "\n",
    "     spinlock2(N=50000000).find(0).next.data\n",
    "     \n",
    "and it eventually gave the right answer, but while it was running I had plenty of time to think.\n",
    "I realized that, if we go back to the original `spinlock` version, the value `0` will always be in `buf[0]`, and the value we are looking for will always be in `buf[1]`. So I can create a version of `spinlock` that only keeps track of `buf[0:2]`. That should run in a few seconds, not minutes:"
   ]
  },
  {
   "cell_type": "code",
   "execution_count": 78,
   "metadata": {},
   "outputs": [
    {
     "name": "stdout",
     "output_type": "stream",
     "text": [
      "CPU times: user 5.47 s, sys: 6.62 ms, total: 5.48 s\n",
      "Wall time: 5.48 s\n"
     ]
    },
    {
     "data": {
      "text/plain": [
       "6154117"
      ]
     },
     "execution_count": 78,
     "metadata": {},
     "output_type": "execute_result"
    }
   ],
   "source": [
    "def spinlock3(step=step, N=2017):\n",
    "    \"Make N inserts into a simulated buffer, but ignore all except buf[0:2].\"\n",
    "    pos = 0\n",
    "    buf = [0, 0]\n",
    "    for i in ints(1, N):\n",
    "        pos = (pos + step) % i + 1\n",
    "        if pos <= 1:\n",
    "            buf[pos] = i\n",
    "    return buf\n",
    "\n",
    "%time spinlock3(N=50000000)[1]"
   ]
  },
  {
   "cell_type": "markdown",
   "metadata": {},
   "source": [
    "The moral of the story is *keep your eyes on the prize*. I got distracted because I asked the wrong question. I asked myself \"how can I make my solution in `spinlock` faster?\" and answered myself \"insertion is O(N<sup>2</sup>) and it should be O(N).\" I knew how to do that, with a linked list, but that was the right answer to the wrong question. I should have asked myself \"how do I solve Part Two quickly,\" concentrating on solving the actual problem. Once I did that, I realized I didn't need all those insertions: not doing them at all is a better idea than doing them faster."
   ]
  },
  {
   "cell_type": "markdown",
   "metadata": {},
   "source": [
    "# [Day 18](https://adventofcode.com/2017/day/17): Duet\n",
    "\n",
    "First, read the input, and take a peak at it:"
   ]
  },
  {
   "cell_type": "code",
   "execution_count": 79,
   "metadata": {},
   "outputs": [
    {
     "data": {
      "text/plain": [
       "(('set', 'i', 31),\n",
       " ('set', 'a', 1),\n",
       " ('mul', 'p', 17),\n",
       " ('jgz', 'p', 'p'),\n",
       " ('mul', 'a', 2),\n",
       " ('add', 'i', -1),\n",
       " ('jgz', 'i', -2),\n",
       " ('add', 'a', -1),\n",
       " ('set', 'i', 127),\n",
       " ('set', 'p', 826))"
      ]
     },
     "execution_count": 79,
     "metadata": {},
     "output_type": "execute_result"
    }
   ],
   "source": [
    "program18 = Array(Input(18))\n",
    "program18[:10]"
   ]
  },
  {
   "cell_type": "markdown",
   "metadata": {},
   "source": [
    "Now write an interpreter for the assembly language:"
   ]
  },
  {
   "cell_type": "code",
   "execution_count": 80,
   "metadata": {},
   "outputs": [
    {
     "data": {
      "text/plain": [
       "7071"
      ]
     },
     "execution_count": 80,
     "metadata": {},
     "output_type": "execute_result"
    }
   ],
   "source": [
    "def run18(program):\n",
    "    \"Interpret the assembly language program; return recovered `snd`.\"\n",
    "    regs = defaultdict(int)\n",
    "    pc = snd = 0\n",
    "    while True:\n",
    "        instr = program[pc]\n",
    "        pc += 1\n",
    "        op, x, y = instr[0], instr[1], instr[-1]\n",
    "        vy = value(regs, y)\n",
    "        if   op == 'snd': snd = regs[x]\n",
    "        elif op == 'set': regs[x] = vy\n",
    "        elif op == 'add': regs[x] += vy\n",
    "        elif op == 'mul': regs[x] *= vy\n",
    "        elif op == 'mod': regs[x] %=  vy\n",
    "        elif op == 'jgz' and regs[x] > 0: pc += vy - 1\n",
    "        elif op == 'rcv' and regs[x] != 0: return snd\n",
    "        \n",
    "def value(regs, y): return (y if isinstance(y, int) else regs[y])\n",
    "\n",
    "run18(program18)"
   ]
  },
  {
   "cell_type": "markdown",
   "metadata": {},
   "source": [
    "That was easy. (One tricky bit: the `pc` is incremented by 1 every time through the loop, regardless of the instruction. Therefore, the `'jgz'` jump instruction increments by \"`vy - 1`\" so that the net increment is \"`vy`\".)\n",
    "\n",
    "**Part Two**\n",
    "\n",
    "In Part Two we have to run two copies of the program, and send messages between them.  I'll break up the loop in `run18` into\n",
    "two functions. First, `run18_2`, creates (in `ps`) two structures to hold the state variables necessary to run a program:\n",
    "- `id`: The id number (0 or 1) of this copy of the program.\n",
    "- `pc`: The program counter.\n",
    "- `sends`: A count of the number of `snd` instructions executed.\n",
    "- `regs`: A dict of the program registers (`a` to `z`).\n",
    "- `status`: A program has a status which can be:\n",
    "  * `'run'` when it is ready to execute an instruction, \n",
    "  * `'wait'` when it is waiting for a value to arrive in its input queue, or \n",
    "  * `'end'` when the `pc` has run off the end of the program and it has terminated.\n",
    "\n",
    "`run18_2`  repeatedly calls the second function, `step18(program, p)` to execute one instruction of `program` with the state variables in `p`. I choose randomly which of the two programs to step on each iteration.  The function exits when neither copy of the program can run, according to their status. "
   ]
  },
  {
   "cell_type": "code",
   "execution_count": 81,
   "metadata": {
    "collapsed": true
   },
   "outputs": [],
   "source": [
    "def run18_2(program):\n",
    "    \"Run two copies of program, with different state variables. Return final states.\"\n",
    "    Qs = [deque(), deque()]\n",
    "    ps = [Struct(id=id, pc=0, sends=0, regs=defaultdict(int, p=id), status='run')\n",
    "          for id in (0, 1)]\n",
    "    while any(p.status == 'run' for p in ps):\n",
    "        step18(program, Qs, random.choice(ps))\n",
    "    return ps"
   ]
  },
  {
   "cell_type": "markdown",
   "metadata": {},
   "source": [
    "`step18` has most of the guts of thee previous `run18` function, but with a few changes:\n",
    "- State variables are accessed indirectly: `p.pc` instead of just `pc`.\n",
    "- If the `pc` is out of bounds, the program terminates; the status is set to `'end'`.\n",
    "- The `snd` instruction sends a value to the other program's queue.\n",
    "- The `rcv` instruction pops a value off the queue if there is one, otherwise the status is set to `'wait'`.\n",
    "- The \"`X`\" in \"`jgz X Y`\" might be an integer, not a register name, so use `vx = value(p.regs, x)`. I was stuck for a *long* time before I realized this. Finally I tried the strategy of *look carefully at the input*. I noticed  the instruction `\"jgz 1 3\"`, and it was a simple change to make the program work."
   ]
  },
  {
   "cell_type": "code",
   "execution_count": 82,
   "metadata": {},
   "outputs": [
    {
     "data": {
      "text/plain": [
       "8001"
      ]
     },
     "execution_count": 82,
     "metadata": {},
     "output_type": "execute_result"
    }
   ],
   "source": [
    "def step18(program, Qs, p):\n",
    "    \"Execute one instruction in program, using state variables in p.\"\n",
    "    if p.pc < 0 or p.pc > len(program):\n",
    "        p.status = 'end'\n",
    "    else:\n",
    "        instr = program[p.pc]\n",
    "        op, x, y = instr[0], instr[1], instr[-1]\n",
    "        vx, vy = value(p.regs, x), value(p.regs, y)\n",
    "        if   op == 'snd': Qs[1-p.id].append(vy); p.sends += 1\n",
    "        elif op == 'set': p.regs[x] = vy\n",
    "        elif op == 'add': p.regs[x] += vy\n",
    "        elif op == 'mul': p.regs[x] *= vy\n",
    "        elif op == 'mod': p.regs[x] %= vy\n",
    "        elif op == 'jgz' and vx > 0: p.pc += vy - 1\n",
    "        elif op == 'rcv': \n",
    "            if not Qs[p.id]:\n",
    "                p.status = 'wait'\n",
    "                return # don't update pc; try again next time\n",
    "            else:\n",
    "                p.regs[x] = Qs[p.id].popleft()\n",
    "                p.status = 'run'\n",
    "        p.pc += 1\n",
    "        \n",
    "run18_2(program18)[1].sends"
   ]
  },
  {
   "cell_type": "markdown",
   "metadata": {},
   "source": [
    "# [Day 19](https://adventofcode.com/2017/day/19): A Series of Tubes"
   ]
  },
  {
   "cell_type": "markdown",
   "metadata": {},
   "source": [
    "At first I was confused; I thought this was a maze-following problem where I had to make a choice of directions at every turn. Actually, the direction is always determined: keep going in the current direction as long as possible, but when we hit a `'+'` character, find the new direction to go in (there will only be one possibility). Leave breadcrumbs (the `'.'` character) so that we don't back up along a previously-followed path. As in Day 14, the grid is surrounded by a border of space characters so that we don't have to worry about `(x, y)` going off the edge."
   ]
  },
  {
   "cell_type": "code",
   "execution_count": 83,
   "metadata": {
    "collapsed": true
   },
   "outputs": [],
   "source": [
    "diagram = Inputstr(19)\n",
    "\n",
    "def follow_tubes(diagram):\n",
    "    \"Follow [-+|] lines, yielding characters along the path.\"\n",
    "    grid = border(' ', diagram.splitlines())\n",
    "    x, y = grid[1].index('|'), 1\n",
    "    dx, dy = 0, 1\n",
    "    while grid[y][x] != ' ':\n",
    "        yield grid[y][x]\n",
    "        if grid[y][x] == '+':\n",
    "            dx, dy = new_direction(grid, x, y)\n",
    "        grid[y][x] = '.' # Leave a breadcrumb\n",
    "        x += dx; y += dy\n",
    "    \n",
    "def new_direction(grid, x, y):\n",
    "    \"Find a direction that continues the path.\"\n",
    "    for (dx, dy) in (UP, DOWN, RIGHT, LEFT):\n",
    "        if grid[y+dy][x+dx] not in (' ', '.'):\n",
    "            return dx, dy"
   ]
  },
  {
   "cell_type": "code",
   "execution_count": 84,
   "metadata": {},
   "outputs": [
    {
     "data": {
      "text/plain": [
       "'VEBTPXCHLI'"
      ]
     },
     "execution_count": 84,
     "metadata": {},
     "output_type": "execute_result"
    }
   ],
   "source": [
    "cat(filter(str.isalpha, follow_tubes(diagram)))"
   ]
  },
  {
   "cell_type": "markdown",
   "metadata": {},
   "source": [
    "That's the right answer.\n",
    "\n",
    "**Part Two**\n",
    "\n",
    "This is a surprisingly easy Part Two; I already generated the characters in the path; all I have to do is count them: "
   ]
  },
  {
   "cell_type": "code",
   "execution_count": 85,
   "metadata": {},
   "outputs": [
    {
     "data": {
      "text/plain": [
       "18702"
      ]
     },
     "execution_count": 85,
     "metadata": {},
     "output_type": "execute_result"
    }
   ],
   "source": [
    "length(follow_tubes(diagram))"
   ]
  },
  {
   "cell_type": "markdown",
   "metadata": {},
   "source": [
    "# [Day 20](https://adventofcode.com/2017/day/20): Particle Swarm\n",
    "\n",
    "I'll create structures for particles, each will have fields for particle's number (`id`), position (`p`), velocity(`v`), and acceleration (`a`):"
   ]
  },
  {
   "cell_type": "code",
   "execution_count": 86,
   "metadata": {},
   "outputs": [
    {
     "data": {
      "text/plain": [
       "[Struct(a=(-7, 8, -10), id=0, p=(1199, -2918, 1457), v=(-13, 115, -8)),\n",
       " Struct(a=(-6, -5, 6), id=1, p=(2551, 2418, -1471), v=(-106, -108, 39)),\n",
       " Struct(a=(-6, 2, -9), id=2, p=(-73, 1626, 1321), v=(58, -118, -8)),\n",
       " Struct(a=(3, 3, 11), id=3, p=(-3297, -894, -551), v=(183, 31, -61)),\n",
       " Struct(a=(7, -12, -1), id=4, p=(-1425, 4298, 617), v=(32, -166, -32))]"
      ]
     },
     "execution_count": 86,
     "metadata": {},
     "output_type": "execute_result"
    }
   ],
   "source": [
    "def particles(lines=list(Input(20))):\n",
    "    \"Parse the list of particles.\"\n",
    "    return [Particle(id, *grouper(Integers(line), 3)) \n",
    "            for id, line in enumerate(lines)]\n",
    "\n",
    "def Particle(id, p, v, a): return Struct(id=id, p=p, v=v, a=a)    \n",
    "\n",
    "particles()[:5]"
   ]
  },
  {
   "cell_type": "markdown",
   "metadata": {},
   "source": [
    "I'm not quite sure how to determine what \"in the long run\" means, so I'll just interpret it as meaning \"after 1000 time steps.\" On each step we update velocity and position of each particle. At the end, we determine the id number of the particle closest to the origin. Note that `evolve` generates an infinite sequence of particles, and we use `nth` to pick out the 1000th generation."
   ]
  },
  {
   "cell_type": "code",
   "execution_count": 87,
   "metadata": {},
   "outputs": [
    {
     "data": {
      "text/plain": [
       "243"
      ]
     },
     "execution_count": 87,
     "metadata": {},
     "output_type": "execute_result"
    }
   ],
   "source": [
    "def evolve(particles):\n",
    "    \"Continually update particles, yielding them after each time step.\"\n",
    "    while True:\n",
    "        yield particles\n",
    "        for p in particles:\n",
    "            p.v = add(p.v, p.a)\n",
    "            p.p = add(p.p, p.v)\n",
    "        \n",
    "def add(A, B): \n",
    "    \"Add two n-dimensional vectors.\"\n",
    "    return mapt(sum, zip(A, B))\n",
    "\n",
    "def closest(particles):\n",
    "    \"Find the particle closest to origin.\"\n",
    "    return min(particles, key=lambda p: sum(map(abs, p.p)))\n",
    "\n",
    "# Answer: the id of the particle closest to origin in the 1000th generation of `evolve`\n",
    "closest(nth(evolve(particles()), 1000)).id"
   ]
  },
  {
   "cell_type": "markdown",
   "metadata": {},
   "source": [
    "**Part Two**\n",
    "\n",
    "I can still use `evolve` unchanged, and I will add the function `remove_collisions` to eliminate particles that are in the same position as another particle. I use `map` to apply this to every generation. Note that `remove_collisions` both mutates the argument, `particles`, and also returns it. "
   ]
  },
  {
   "cell_type": "code",
   "execution_count": 88,
   "metadata": {},
   "outputs": [
    {
     "data": {
      "text/plain": [
       "648"
      ]
     },
     "execution_count": 88,
     "metadata": {},
     "output_type": "execute_result"
    }
   ],
   "source": [
    "def remove_collisions(particles):\n",
    "    \"Mutate (and return) particles, keep only ones that have a unique position.\"\n",
    "    poscount = Counter(p.p for p in particles)\n",
    "    particles[:] = [p for p in particles if poscount[p.p] == 1]\n",
    "    return particles\n",
    "    \n",
    "# Answer: remove collisions from every generation of evolving particles, \n",
    "# select the 1000th generation, and say how many particles are in that generation.\n",
    "len(nth(map(remove_collisions, evolve(particles())), 1000))"
   ]
  },
  {
   "cell_type": "markdown",
   "metadata": {},
   "source": [
    "# [Day 21](https://adventofcode.com/2017/day/21): Fractal Art\n",
    "\n",
    "First I'll create a `dict` of enhancement rules. I'll translate `'#'` and `'.'` pixels to 1 and 0, and represent a grid as a tuple of tuples (e.g. `((0, 0), (1, 1))`), so that it can be a `dict` key. I have to deal with rotations and flips; I could do that at lookup time, but it will be faster to do it at rule creation time:"
   ]
  },
  {
   "cell_type": "code",
   "execution_count": 89,
   "metadata": {
    "collapsed": true
   },
   "outputs": [],
   "source": [
    "def Enhancements(lines):\n",
    "    \"Create a dict of {square: enhanced_square}\"\n",
    "    enhancements = {}\n",
    "    for line in lines:\n",
    "        lhs, rhs = map(Key, line.split('=>'))\n",
    "        for r in range(4):\n",
    "            enhancements[lhs] = enhancements[flip(lhs)] = rhs\n",
    "            lhs = rotate(lhs)\n",
    "    return enhancements\n",
    "        \n",
    "def Key(line): \n",
    "    \"Key('../##') => ((0, 0), (1, 1))\"\n",
    "    bits = {'#': 1, '.': 0}\n",
    "    return tuple(tuple(bits[p] for p in row.strip())\n",
    "                 for row in line.split('/'))\n",
    "        \n",
    "def rotate(key): return tuple(zip(*reversed(key)))\n",
    "\n",
    "def flip(L): return tuple(tuple(reversed(row)) for row in L)"
   ]
  },
  {
   "cell_type": "markdown",
   "metadata": {},
   "source": [
    "Let's test this on just the enhancement rules with 2x2 squares; with rotations and flips there should be 16 entries:"
   ]
  },
  {
   "cell_type": "code",
   "execution_count": 90,
   "metadata": {},
   "outputs": [
    {
     "data": {
      "text/plain": [
       "{((0, 0), (0, 0)): ((0, 0, 0), (0, 1, 0), (0, 1, 0)),\n",
       " ((0, 0), (0, 1)): ((0, 0, 0), (1, 0, 0), (1, 0, 0)),\n",
       " ((0, 0), (1, 0)): ((0, 0, 0), (1, 0, 0), (1, 0, 0)),\n",
       " ((0, 0), (1, 1)): ((1, 0, 1), (0, 1, 0), (0, 1, 0)),\n",
       " ((0, 1), (0, 0)): ((0, 0, 0), (1, 0, 0), (1, 0, 0)),\n",
       " ((0, 1), (0, 1)): ((1, 0, 1), (0, 1, 0), (0, 1, 0)),\n",
       " ((0, 1), (1, 0)): ((1, 1, 0), (1, 1, 0), (0, 0, 0)),\n",
       " ((0, 1), (1, 1)): ((0, 1, 1), (1, 1, 1), (1, 0, 0)),\n",
       " ((1, 0), (0, 0)): ((0, 0, 0), (1, 0, 0), (1, 0, 0)),\n",
       " ((1, 0), (0, 1)): ((1, 1, 0), (1, 1, 0), (0, 0, 0)),\n",
       " ((1, 0), (1, 0)): ((1, 0, 1), (0, 1, 0), (0, 1, 0)),\n",
       " ((1, 0), (1, 1)): ((0, 1, 1), (1, 1, 1), (1, 0, 0)),\n",
       " ((1, 1), (0, 0)): ((1, 0, 1), (0, 1, 0), (0, 1, 0)),\n",
       " ((1, 1), (0, 1)): ((0, 1, 1), (1, 1, 1), (1, 0, 0)),\n",
       " ((1, 1), (1, 0)): ((0, 1, 1), (1, 1, 1), (1, 0, 0)),\n",
       " ((1, 1), (1, 1)): ((0, 1, 1), (1, 0, 0), (1, 1, 0))}"
      ]
     },
     "execution_count": 90,
     "metadata": {},
     "output_type": "execute_result"
    }
   ],
   "source": [
    "Enhancements('''\n",
    "../.. => .../.#./.#.\n",
    "#./.. => .../#../#..\n",
    "##/.. => #.#/.#./.#.\n",
    ".#/#. => ##./##./...\n",
    "##/#. => .##/###/#..\n",
    "##/## => .##/#../##.\n",
    "'''.strip().splitlines())"
   ]
  },
  {
   "cell_type": "code",
   "execution_count": 91,
   "metadata": {},
   "outputs": [
    {
     "data": {
      "text/plain": [
       "16"
      ]
     },
     "execution_count": 91,
     "metadata": {},
     "output_type": "execute_result"
    }
   ],
   "source": [
    "len(_)"
   ]
  },
  {
   "cell_type": "markdown",
   "metadata": {},
   "source": [
    "Looks good; let's create my complete table. There should be 2<sup>4</sup> + 2<sup>9</sup> entries:"
   ]
  },
  {
   "cell_type": "code",
   "execution_count": 92,
   "metadata": {
    "collapsed": true
   },
   "outputs": [],
   "source": [
    "enhancements = Enhancements(Input(21))\n",
    "\n",
    "assert len(enhancements) == 2 ** 4 + 2 ** 9"
   ]
  },
  {
   "cell_type": "markdown",
   "metadata": {},
   "source": [
    "Now on each iteration we `enhance` the grid by first `expand`-ing it (looking up each `slice` in the `enhancements` rules) and then `stitch` the pieces together:"
   ]
  },
  {
   "cell_type": "code",
   "execution_count": 93,
   "metadata": {
    "collapsed": true
   },
   "outputs": [],
   "source": [
    "def enhance(grid): \n",
    "    \"Expand small pieces into bigger ones and stitch them together.\"\n",
    "    return stitch(expand(grid))\n",
    "\n",
    "def expand(grid):\n",
    "    \"Slice the grid into d x d pieces and enhance each piece.\"\n",
    "    N = len(grid[0])\n",
    "    d = (2 if N % 2 == 0 else 3 if N % 3 == 0 else error())\n",
    "    return [[enhancements[slice(grid, r, c, d)]\n",
    "             for c in range(0, N, d)]\n",
    "            for r in range(0, N, d)]\n",
    "\n",
    "def stitch(pieces): \n",
    "    \"Stitch the pieces back into one big grid.\"\n",
    "    N = sum(map(len, pieces[0]))\n",
    "    return tuple(tuple(get(pieces, r, c) \n",
    "                       for c in range(N))\n",
    "                 for r in range(N))\n",
    "\n",
    "def get(pieces, r, c):\n",
    "    \"The pixel at location (r, c), from a matrix of d x d pieces.\"\n",
    "    d = len(pieces[0][0])\n",
    "    row = pieces[r // d]\n",
    "    cell = row[c // d]\n",
    "    return cell[r % d][c % d]\n",
    "\n",
    "def slice(grid, r, c, d):\n",
    "    \"The d x d slice of grid starting at position (r, c)\"\n",
    "    return tuple(row[c:c+d] for row in grid[r:r+d])"
   ]
  },
  {
   "cell_type": "code",
   "execution_count": 94,
   "metadata": {},
   "outputs": [
    {
     "data": {
      "text/plain": [
       "((0, 1, 0), (0, 0, 1), (1, 1, 1))"
      ]
     },
     "execution_count": 94,
     "metadata": {},
     "output_type": "execute_result"
    }
   ],
   "source": [
    "grid = Key('.#./..#/###')\n",
    "grid"
   ]
  },
  {
   "cell_type": "code",
   "execution_count": 95,
   "metadata": {},
   "outputs": [
    {
     "data": {
      "text/plain": [
       "[[((1, 0, 1, 0), (0, 0, 1, 0), (0, 1, 0, 1), (0, 1, 0, 0))]]"
      ]
     },
     "execution_count": 95,
     "metadata": {},
     "output_type": "execute_result"
    }
   ],
   "source": [
    "expand(_)"
   ]
  },
  {
   "cell_type": "code",
   "execution_count": 96,
   "metadata": {},
   "outputs": [
    {
     "data": {
      "text/plain": [
       "((1, 0, 1, 0), (0, 0, 1, 0), (0, 1, 0, 1), (0, 1, 0, 0))"
      ]
     },
     "execution_count": 96,
     "metadata": {},
     "output_type": "execute_result"
    }
   ],
   "source": [
    "stitch(_)"
   ]
  },
  {
   "cell_type": "code",
   "execution_count": 97,
   "metadata": {},
   "outputs": [
    {
     "data": {
      "text/plain": [
       "[[((0, 0, 0), (1, 0, 0), (1, 0, 0)), ((1, 0, 1), (0, 1, 0), (0, 1, 0))],\n",
       " [((1, 0, 1), (0, 1, 0), (0, 1, 0)), ((0, 0, 0), (1, 0, 0), (1, 0, 0))]]"
      ]
     },
     "execution_count": 97,
     "metadata": {},
     "output_type": "execute_result"
    }
   ],
   "source": [
    "expand(_)"
   ]
  },
  {
   "cell_type": "code",
   "execution_count": 98,
   "metadata": {},
   "outputs": [
    {
     "data": {
      "text/plain": [
       "((0, 0, 0, 1, 0, 1),\n",
       " (1, 0, 0, 0, 1, 0),\n",
       " (1, 0, 0, 0, 1, 0),\n",
       " (1, 0, 1, 0, 0, 0),\n",
       " (0, 1, 0, 1, 0, 0),\n",
       " (0, 1, 0, 1, 0, 0))"
      ]
     },
     "execution_count": 98,
     "metadata": {},
     "output_type": "execute_result"
    }
   ],
   "source": [
    "stitch(_)"
   ]
  },
  {
   "cell_type": "code",
   "execution_count": 99,
   "metadata": {},
   "outputs": [
    {
     "data": {
      "text/plain": [
       "12"
      ]
     },
     "execution_count": 99,
     "metadata": {},
     "output_type": "execute_result"
    }
   ],
   "source": [
    "sum(flatten(_))"
   ]
  },
  {
   "cell_type": "markdown",
   "metadata": {},
   "source": [
    "That looks right; Let's try to solve the puzzle:"
   ]
  },
  {
   "cell_type": "code",
   "execution_count": 100,
   "metadata": {},
   "outputs": [
    {
     "data": {
      "text/plain": [
       "147"
      ]
     },
     "execution_count": 100,
     "metadata": {},
     "output_type": "execute_result"
    }
   ],
   "source": [
    "sum(flatten(repeat(5, enhance, grid)))"
   ]
  },
  {
   "cell_type": "markdown",
   "metadata": {},
   "source": [
    "**Part Two**\n",
    "\n",
    "It looked like I didn't need to change any code to do Part Two, just change the `5` to an `18`. I ran it, and got an answer in a few seconds&mdash;but the answer was wrong. I went back and carefully looked over my code, and realized there was a place in `expand` where I had swapped the order of `r` and `c` (the code there is fixed now). Apparently there is some symmetry over the first 5 enhancements that yields the correct answer either way, but that breaks down over 18 enhancements. (Also: if I had guessed that `sum(flatten(repeat(n, enhance, grid)))` would be used in both parts, I probably would have created a function for it. But I was guessing that Part Two would involve `enhance`, but not necessarily in the same way as Part One.)"
   ]
  },
  {
   "cell_type": "code",
   "execution_count": 101,
   "metadata": {},
   "outputs": [
    {
     "data": {
      "text/plain": [
       "1936582"
      ]
     },
     "execution_count": 101,
     "metadata": {},
     "output_type": "execute_result"
    }
   ],
   "source": [
    "sum(flatten(repeat(18, enhance, grid)))"
   ]
  },
  {
   "cell_type": "markdown",
   "metadata": {},
   "source": [
    "# A Note on Reuse\n",
    "\n",
    "One interesting question about these two-part problems: how does the code in Part Two use the code in Part One? \n",
    "Here are my answers:\n",
    "\n",
    "* **All new**: All the code for Part Two (except possibly reading and parsing the input) is brand new: \n",
    "<br>Days 1, 2, 4, 7\n",
    "\n",
    "* **Reuse as is**: The major function defined in Part One is called again in Part Two (and some new code\n",
    "is also written):\n",
    "<br>Days 3 (`spiral`), 6 (`spread`, but `realloc2` is copy-paste-edit), 9, 12, 14 (`bits`), \n",
    "15 (`A, B, gen, judge`), 16 (`perform`), 19 (`follow_tubes`), 20 (`evolve, particles`), 21 (`expands`, `gridsum`)\n",
    "\n",
    "* **Generalize**: A major function from Part One is generalized in Part Two (e.g. by adding an optional parameter):\n",
    "<br>Days 13 (`caught`)\n",
    "\n",
    "* **Copy-paste-edit**: The major function from Part One is copied and edited for Part Two:\n",
    "<br>Days 5 (`run2`), 8 (`run82`), 10 (`knothash2`), 11 (`follow2`), 17 (`spinlock2`), 18 (`step18`)\n",
    "\n"
   ]
  },
  {
   "cell_type": "markdown",
   "metadata": {},
   "source": [
    "# Wrapping Up: Verification and Timing\n",
    "\n",
    "Here is a little test harness to verify that I still get the right answers (even if I refactor some of the code):"
   ]
  },
  {
   "cell_type": "code",
   "execution_count": 106,
   "metadata": {},
   "outputs": [
    {
     "name": "stdout",
     "output_type": "stream",
     "text": [
      "CPU times: user 54.6 s, sys: 156 ms, total: 54.7 s\n",
      "Wall time: 54.9 s\n"
     ]
    }
   ],
   "source": [
    "%%time\n",
    "\n",
    "def day(d, compute1, answer1, compute2, answer2):\n",
    "    \"Assert that we get the right answers for this day.\"\n",
    "    assert compute1 == answer1\n",
    "    assert compute2 == answer2\n",
    "\n",
    "day(1,  sum(digits[i] for i in range(N) if digits[i] == digits[i - 1]), 1158,\n",
    "        sum(digits[i] for i in range(N) if digits[i] == digits[i - N // 2]), 1132)\n",
    "day(2,  sum(abs(max(row) - min(row)) for row in rows2), 46402, \n",
    "        sum(map(evendiv, rows2)), 265)\n",
    "day(3,  cityblock_distance(nth(spiral(), M - 1)), 475, \n",
    "        first(x for x in spiralsums() if x > M), 279138)\n",
    "day(4,  quantify(Input(4), is_valid), 337, \n",
    "        quantify(Input(4), is_valid2), 231)\n",
    "day(5,  run(program), 364539, \n",
    "        run2(program), 27477714)\n",
    "day(6,  realloc(banks), 12841, \n",
    "        realloc2(banks), 8038)\n",
    "day(7,  first(programs - set(flatten(above.values()))), 'wiapj', \n",
    "        correct(wrongest(programs)), 1072)\n",
    "day(8,  max(run8(program8).values()), 6828, \n",
    "        run8_2(program8), 7234)\n",
    "day(9,  total_score(text2), 9662, \n",
    "        len(text1) - len(text3), 4903)\n",
    "day(10, knothash(stream), 4480, \n",
    "        knothash2(stream2), 'c500ffe015c83b60fad2e4b7d59dabc4')\n",
    "day(11, follow(path), 705, \n",
    "        follow2(path), 1469)\n",
    "day(12, len(G[0]), 115, \n",
    "        len({Set(G[i]) for i in G}), 221)\n",
    "day(13, trip_severity(scanners), 1504, \n",
    "        safe_delay(scanners), 3823370)\n",
    "day(14, sum(bits(key, i).count('1') for i in range(128)), 8316, \n",
    "        flood_all(Grid(key)), 1074)\n",
    "day(15, judge(A(), B()), 597, \n",
    "        judge(criteria(4, A()), criteria(8, B()), 5*10**6), 303)\n",
    "day(16, perform(dance), 'lbdiomkhgcjanefp', \n",
    "        whole(48, dance), 'ejkflpgnamhdcboi')\n",
    "day(17, spinlock2().find(2017).next.data, 355,\n",
    "        spinlock3(N=50*10**6)[1], 6154117)\n",
    "day(18, run18(program18), 7071, \n",
    "        run18_2(program18)[1].sends, 8001)\n",
    "day(19, cat(filter(str.isalpha, follow_tubes(diagram))), 'VEBTPXCHLI', \n",
    "        quantify(follow_tubes(diagram)), 18702)\n",
    "day(20, closest(nth(evolve(particles()), 1000)).id, 243,\n",
    "        len(nth(map(remove_collisions, evolve(particles())), 1000)), 648)\n",
    "day(21, sum(flatten(repeat(5,  enhance, grid))), 147,\n",
    "        sum(flatten(repeat(18, enhance, grid))), 1936582)"
   ]
  },
  {
   "cell_type": "markdown",
   "metadata": {},
   "source": [
    "And here is a plot of the time taken to program solutions to both parts of each puzzle each day, for me, the first person to finish, and the hundredth person. On days when I  started late, the times are my estimates, not official times (these include days 1, 3, 8, 13, 14, 17, 18, 21)."
   ]
  },
  {
   "cell_type": "code",
   "execution_count": 104,
   "metadata": {},
   "outputs": [
    {
     "data": {
      "image/png": "[encoded data removed]",
      "text/plain": [
       "<matplotlib.figure.Figure at 0x110fb68d0>"
      ]
     },
     "metadata": {},
     "output_type": "display_data"
    }
   ],
   "source": [
    "def plot_times(times):\n",
    "    plt.style.use('seaborn-whitegrid')\n",
    "    X = ints(1, len(times[0]) - 2)\n",
    "    for (label, mark, *Y) in times:\n",
    "        plt.plot(X, Y, mark, label=label)\n",
    "    plt.xlabel('Day Number'); plt.ylabel('Minutes to Solve Both Parts')\n",
    "    plt.legend(loc='upper left')\n",
    "\n",
    "x = None\n",
    "plot_times([\n",
    " ('Me',    'd:', 4, 6, 20, 5, 12, 30, 33, 10, 21, 40, 13, 12, 30, 41, 13, 64, 54, 74, 50, 18, 40),\n",
    " ('100th', 'v:', 6, 6, 23, 4,  5,  9, 25,  8, 12, 25, 12,  9, 22, 25, 10, 27, 16, 41, 18, 21, 45),\n",
    " ('1st',   '^:', 1, 1,  4, 1,  2,  3, 10,  3,  4,  6,  3,  2,  6,  5,  2,  5,  5, 10,  5,  7, 10)])"
   ]
  }
 ],
 "metadata": {
  "kernelspec": {
   "display_name": "Python 3",
   "language": "python",
   "name": "python3"
  },
  "language_info": {
   "codemirror_mode": {
    "name": "ipython",
    "version": 3
   },
   "file_extension": ".py",
   "mimetype": "text/x-python",
   "name": "python",
   "nbconvert_exporter": "python",
   "pygments_lexer": "ipython3",
   "version": "3.5.2"
  }
 },
 "nbformat": 4,
 "nbformat_minor": 2
}
